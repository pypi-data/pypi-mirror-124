{
 "cells": [
  {
   "cell_type": "markdown",
   "metadata": {},
   "source": [
    "# pyBOS demonstration notebook\n"
   ]
  },
  {
   "cell_type": "markdown",
   "metadata": {},
   "source": [
    "\n",
    "## imports\n",
    "This notebook is not intented to be a lecture about BOS but only a demonstration\n",
    "of what can be done with the library pyBOS.\n",
    "\n",
    "First we import packages that we'll use later.\n",
    "`%matplotlib widget` is here for improving plots quality in this notebook"
   ]
  },
  {
   "cell_type": "code",
   "execution_count": null,
   "metadata": {},
   "outputs": [],
   "source": [
    "import matplotlib.pyplot as plt\n",
    "import xarray as xr\n",
    "from pathlib import Path\n",
    "\n",
    "%matplotlib widget"
   ]
  },
  {
   "cell_type": "markdown",
   "metadata": {},
   "source": [
    "Then we import stuff fron the pyBOS library"
   ]
  },
  {
   "cell_type": "code",
   "execution_count": null,
   "metadata": {},
   "outputs": [],
   "source": [
    "from pybos.extraction import idz2n\n",
    "from pybos.laplacian import solve_BOS\n",
    "from pybos.physical_laws import polynomial\n",
    "from pybos.reader import DANTEC_DAT, reader\n",
    "from pybos.vector_calculus import amplitude, divergence"
   ]
  },
  {
   "cell_type": "markdown",
   "metadata": {},
   "source": [
    "## Reading the data\n",
    "\n",
    "We use the `reader` function to read the data.\n",
    "It must be a `.csv` type file (including dome of the tecplot's `.plt.` files)\n",
    "\n",
    "If possible prefer using the calibration from Dantec/Davis and avoid importing data in pixel."
   ]
  },
  {
   "cell_type": "code",
   "execution_count": null,
   "metadata": {},
   "outputs": [],
   "source": [
    "im_datafile = Path(\"data/example_data_2d.dat\")\n",
    "cols = 2, 3, 6, 7  # pix for now\n",
    "scale = 1 / (2560 * ((283 - 26) / 319) / 384)  # pix to mm\n",
    "\n",
    "data = reader(im_datafile, DANTEC_DAT, usecols=cols, scale=scale, unit=\"mm\", output_unit=\"mm\")\n",
    "\n",
    "reverse = True  # if reference image and final image are reversed (should not happen !)\n",
    "if reverse:\n",
    "    data[\"U\"] *= -1\n",
    "    data[\"V\"] *= -1\n",
    "\n",
    "fig, (ax1, ax2) = plt.subplots(1, 2, figsize=(9, 3))\n",
    "data.U.plot.pcolormesh(ax=ax1, cmap=plt.cm.jet)\n",
    "data.V.plot.pcolormesh(ax=ax2, cmap=plt.cm.jet)\n",
    "ax1.axis(\"equal\")\n",
    "ax2.axis(\"equal\")\n",
    "fig.tight_layout()\n",
    "plt.show()\n",
    "\n",
    "data"
   ]
  },
  {
   "cell_type": "markdown",
   "metadata": {},
   "source": [
    "## Preparing the data\n",
    "\n",
    "You may want to crop the data to remove reflection and other defects.\n",
    "Here we are only using the `isel` method of `Xarray`'s `Dataset`."
   ]
  },
  {
   "cell_type": "code",
   "execution_count": null,
   "metadata": {},
   "outputs": [],
   "source": [
    "roi = {\"x\": slice(None, None), \"y\": slice(None, None)}\n",
    "\n",
    "crop = True\n",
    "if crop:\n",
    "    pix1, piy1 = 244, 117\n",
    "    pix2, piy2 = 2321, 2012\n",
    "    Pix_size = 8\n",
    "\n",
    "    pix1 = int((pix1 - Pix_size + 0.5) / Pix_size)\n",
    "    pix2 = int((pix2 - Pix_size + 0.5) / Pix_size)\n",
    "    piy1 = int((piy1 - Pix_size + 0.5) / Pix_size)\n",
    "    piy2 = int((piy2 - Pix_size + 0.5) / Pix_size)\n",
    "\n",
    "    piy1, piy2 = data.dims[\"y\"] - piy2, data.dims[\"y\"] - piy1\n",
    "\n",
    "    roi = {\"x\": slice(pix1, pix2), \"y\": slice(piy1, piy2)}\n",
    "\n",
    "cropped_data = data.isel(roi)\n",
    "\n",
    "fig, (ax1, ax2) = plt.subplots(1, 2, figsize=(9, 3))\n",
    "data.U.plot.pcolormesh(ax=ax1, cmap=plt.cm.jet)\n",
    "(cropped_data.U * 0.0).plot.pcolormesh(ax=ax1, alpha=0.5, add_colorbar=False)\n",
    "data.V.plot.pcolormesh(ax=ax2, cmap=plt.cm.jet)\n",
    "(cropped_data.V * 0.0).plot.pcolormesh(ax=ax2, alpha=0.5, add_colorbar=False)\n",
    "ax1.axis(\"equal\")\n",
    "ax2.axis(\"equal\")\n",
    "fig.tight_layout()\n",
    "plt.show()\n",
    "\n",
    "cropped_data"
   ]
  },
  {
   "cell_type": "markdown",
   "metadata": {},
   "source": [
    "You may also want to filter the data. Here we are only using standard filter from `scipy`.\n",
    "\n",
    "In order to keep the `Xarray`'s `Dataset` data format, we use the `apply_ufunc` wrapper."
   ]
  },
  {
   "cell_type": "code",
   "execution_count": null,
   "metadata": {},
   "outputs": [],
   "source": [
    "filt_method = \"gaussian\"\n",
    "if filt_method == \"gaussian\":\n",
    "    from scipy.ndimage import gaussian_filter\n",
    "\n",
    "    sigma = 2, 2\n",
    "    filter_ = lambda x: gaussian_filter(x, sigma=sigma, order=0, mode=\"nearest\")\n",
    "\n",
    "elif filt_method == \"spline\":\n",
    "    from scipy.signal import spline_filter\n",
    "\n",
    "    lmbda = 2\n",
    "    filter_ = lambda x: spline_filter(x, lmbda=lmbda)\n",
    "\n",
    "filtered_data = xr.apply_ufunc(filter_, cropped_data, keep_attrs=True)\n",
    "\n",
    "filtered_data"
   ]
  },
  {
   "cell_type": "markdown",
   "metadata": {},
   "source": [
    "There is a function for computing the displacement's amplitude and divergence."
   ]
  },
  {
   "cell_type": "code",
   "execution_count": null,
   "metadata": {},
   "outputs": [],
   "source": [
    "filtered_data[\"amplitude\"] = amplitude(filtered_data)\n",
    "filtered_data[\"divergence\"] = divergence(filtered_data)\n",
    "\n",
    "print(f\"mean(amplitude)={float(filtered_data.amplitude.mean())}\")\n",
    "print(f\"mean(divergence)={float(filtered_data.divergence.mean())}\")\n",
    "\n",
    "fig, axs = plt.subplots(2, 2, figsize=(9, 9))\n",
    "filtered_data.U.plot.pcolormesh(ax=axs[0][0], cmap=plt.cm.jet)\n",
    "filtered_data.V.plot.pcolormesh(ax=axs[0][1], cmap=plt.cm.jet)\n",
    "filtered_data.amplitude.plot.pcolormesh(ax=axs[1][0], cmap=plt.cm.jet)\n",
    "filtered_data.divergence.plot.pcolormesh(ax=axs[1][1], cmap=plt.cm.jet)\n",
    "\n",
    "for axx in axs:\n",
    "    for axy in axx:\n",
    "        axy.axis(\"equal\")\n",
    "fig.tight_layout()\n",
    "plt.show()"
   ]
  },
  {
   "cell_type": "markdown",
   "metadata": {},
   "source": [
    "## Resolution\n",
    "\n",
    "Now we define the properties of the experiment (size of the tank, boundary conditions)\n",
    "and the physical law for converting refracting index to to temperature and conversely."
   ]
  },
  {
   "cell_type": "code",
   "execution_count": null,
   "metadata": {},
   "outputs": [],
   "source": [
    "d = 190  # for cube # 0.003 for aquarium # [mm] pattern-tank distance\n",
    "w = 400  # [mm] tank width \"h\" in [Plakina et al 2012]\n",
    "n0 = 1.00027  # [] refractive index of the air\n",
    "\n",
    "n_T, T_n = polynomial()\n",
    "\n",
    "T_left = 7.5\n",
    "T_right = 39.5\n",
    "\n",
    "idz_top = idz_bottom = None\n",
    "idz_left = n_T(T_left) * w\n",
    "idz_right = n_T(T_right) * w"
   ]
  },
  {
   "cell_type": "markdown",
   "metadata": {},
   "source": [
    "And compute the refractive index"
   ]
  },
  {
   "cell_type": "code",
   "execution_count": null,
   "metadata": {},
   "outputs": [],
   "source": [
    "idz = solve_BOS(filtered_data.divergence, w, d, n0, idz_top, idz_bottom, idz_left, idz_right)\n",
    "\n",
    "fig, ax = plt.subplots()\n",
    "idz.plot.pcolormesh(ax=ax, cmap=plt.cm.jet)\n",
    "ax.axis(\"equal\")\n",
    "fig.tight_layout()\n",
    "plt.show()\n",
    "\n",
    "idz"
   ]
  },
  {
   "cell_type": "markdown",
   "metadata": {},
   "source": [
    "$n$ can be extracted using a 2d hypothesis"
   ]
  },
  {
   "cell_type": "code",
   "execution_count": null,
   "metadata": {},
   "outputs": [],
   "source": [
    "n = idz2n(idz, w, method=\"2d\")\n",
    "\n",
    "fig, ax = plt.subplots()\n",
    "n.plot.pcolormesh(ax=ax, cmap=plt.cm.jet)\n",
    "ax.axis(\"equal\")\n",
    "fig.tight_layout()\n",
    "plt.show()\n",
    "\n",
    "n"
   ]
  },
  {
   "cell_type": "markdown",
   "metadata": {},
   "source": [
    "That we can convert to temperature using the aformentionned law"
   ]
  },
  {
   "cell_type": "code",
   "execution_count": null,
   "metadata": {},
   "outputs": [],
   "source": [
    "T = T_n(n)\n",
    "\n",
    "fig, ax = plt.subplots()\n",
    "T.plot.pcolormesh(ax=ax, cmap=plt.cm.jet, vmin=0, vmax=50)\n",
    "ax.axis(\"equal\")\n",
    "fig.tight_layout()\n",
    "plt.savefig(\"Temperature_2d.png\", dpi=200)\n",
    "\n",
    "T"
   ]
  },
  {
   "cell_type": "markdown",
   "metadata": {},
   "source": [
    "Now it is your turn to use the library ;) !"
   ]
  }
 ],
 "metadata": {
  "interpreter": {
   "hash": "e99ccd4891512bd1a7dfaa70e178065eed07d6bbedcc7c7b32d1f6e9265e1f59"
  },
  "kernelspec": {
   "display_name": "Python 3.9.7 64-bit ('venv': venv)",
   "name": "python3"
  },
  "language_info": {
   "codemirror_mode": {
    "name": "ipython",
    "version": 3
   },
   "file_extension": ".py",
   "mimetype": "text/x-python",
   "name": "python",
   "nbconvert_exporter": "python",
   "pygments_lexer": "ipython3",
   "version": "3.9.7"
  }
 },
 "nbformat": 4,
 "nbformat_minor": 5
}
