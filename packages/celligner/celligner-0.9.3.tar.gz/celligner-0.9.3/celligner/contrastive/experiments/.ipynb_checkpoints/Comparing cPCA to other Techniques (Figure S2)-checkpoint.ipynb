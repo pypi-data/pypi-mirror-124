{
 "cells": [
  {
   "cell_type": "markdown",
   "metadata": {},
   "source": [
    "# Load the Dataset"
   ]
  },
  {
   "cell_type": "code",
   "execution_count": 1,
   "metadata": {
    "collapsed": false
   },
   "outputs": [
    {
     "ename": "KeyboardInterrupt",
     "evalue": "",
     "output_type": "error",
     "traceback": [
      "\u001b[0;31m---------------------------------------------------------------------------\u001b[0m",
      "\u001b[0;31mKeyboardInterrupt\u001b[0m                         Traceback (most recent call last)",
      "\u001b[0;32m<ipython-input-1-c571e2784545>\u001b[0m in \u001b[0;36m<module>\u001b[0;34m()\u001b[0m\n\u001b[1;32m      1\u001b[0m \u001b[1;32mimport\u001b[0m \u001b[0mnumpy\u001b[0m \u001b[1;32mas\u001b[0m \u001b[0mnp\u001b[0m\u001b[1;33m\u001b[0m\u001b[0m\n\u001b[0;32m----> 2\u001b[0;31m \u001b[1;32mimport\u001b[0m \u001b[0mmatplotlib\u001b[0m\u001b[1;33m.\u001b[0m\u001b[0mpyplot\u001b[0m \u001b[1;32mas\u001b[0m \u001b[0mplt\u001b[0m\u001b[1;33m\u001b[0m\u001b[0m\n\u001b[0m\u001b[1;32m      3\u001b[0m \u001b[1;32mimport\u001b[0m \u001b[0mwarnings\u001b[0m\u001b[1;33m\u001b[0m\u001b[0m\n\u001b[1;32m      4\u001b[0m \u001b[1;32mfrom\u001b[0m \u001b[0mmatplotlib\u001b[0m\u001b[1;33m.\u001b[0m\u001b[0mcolors\u001b[0m \u001b[1;32mimport\u001b[0m \u001b[0mListedColormap\u001b[0m\u001b[1;33m\u001b[0m\u001b[0m\n\u001b[1;32m      5\u001b[0m \u001b[0mget_ipython\u001b[0m\u001b[1;33m(\u001b[0m\u001b[1;33m)\u001b[0m\u001b[1;33m.\u001b[0m\u001b[0mmagic\u001b[0m\u001b[1;33m(\u001b[0m\u001b[1;34m'matplotlib inline'\u001b[0m\u001b[1;33m)\u001b[0m\u001b[1;33m\u001b[0m\u001b[0m\n",
      "\u001b[0;32mC:\\Python35\\lib\\site-packages\\matplotlib\\pyplot.py\u001b[0m in \u001b[0;36m<module>\u001b[0;34m()\u001b[0m\n\u001b[1;32m     35\u001b[0m \u001b[1;32mfrom\u001b[0m \u001b[0mmatplotlib\u001b[0m \u001b[1;32mimport\u001b[0m \u001b[0mdocstring\u001b[0m\u001b[1;33m\u001b[0m\u001b[0m\n\u001b[1;32m     36\u001b[0m \u001b[1;32mfrom\u001b[0m \u001b[0mmatplotlib\u001b[0m\u001b[1;33m.\u001b[0m\u001b[0mbackend_bases\u001b[0m \u001b[1;32mimport\u001b[0m \u001b[0mFigureCanvasBase\u001b[0m\u001b[1;33m\u001b[0m\u001b[0m\n\u001b[0;32m---> 37\u001b[0;31m \u001b[1;32mfrom\u001b[0m \u001b[0mmatplotlib\u001b[0m\u001b[1;33m.\u001b[0m\u001b[0mfigure\u001b[0m \u001b[1;32mimport\u001b[0m \u001b[0mFigure\u001b[0m\u001b[1;33m,\u001b[0m \u001b[0mfigaspect\u001b[0m\u001b[1;33m\u001b[0m\u001b[0m\n\u001b[0m\u001b[1;32m     38\u001b[0m \u001b[1;32mfrom\u001b[0m \u001b[0mmatplotlib\u001b[0m\u001b[1;33m.\u001b[0m\u001b[0mgridspec\u001b[0m \u001b[1;32mimport\u001b[0m \u001b[0mGridSpec\u001b[0m\u001b[1;33m\u001b[0m\u001b[0m\n\u001b[1;32m     39\u001b[0m \u001b[1;32mfrom\u001b[0m \u001b[0mmatplotlib\u001b[0m\u001b[1;33m.\u001b[0m\u001b[0mimage\u001b[0m \u001b[1;32mimport\u001b[0m \u001b[0mimread\u001b[0m \u001b[1;32mas\u001b[0m \u001b[0m_imread\u001b[0m\u001b[1;33m\u001b[0m\u001b[0m\n",
      "\u001b[0;32mC:\\Python35\\lib\\site-packages\\matplotlib\\figure.py\u001b[0m in \u001b[0;36m<module>\u001b[0;34m()\u001b[0m\n\u001b[1;32m     38\u001b[0m \u001b[1;32mimport\u001b[0m \u001b[0mmatplotlib\u001b[0m\u001b[1;33m.\u001b[0m\u001b[0mcolorbar\u001b[0m \u001b[1;32mas\u001b[0m \u001b[0mcbar\u001b[0m\u001b[1;33m\u001b[0m\u001b[0m\n\u001b[1;32m     39\u001b[0m \u001b[1;33m\u001b[0m\u001b[0m\n\u001b[0;32m---> 40\u001b[0;31m \u001b[1;32mfrom\u001b[0m \u001b[0mmatplotlib\u001b[0m\u001b[1;33m.\u001b[0m\u001b[0maxes\u001b[0m \u001b[1;32mimport\u001b[0m \u001b[0mAxes\u001b[0m\u001b[1;33m,\u001b[0m \u001b[0mSubplotBase\u001b[0m\u001b[1;33m,\u001b[0m \u001b[0msubplot_class_factory\u001b[0m\u001b[1;33m\u001b[0m\u001b[0m\n\u001b[0m\u001b[1;32m     41\u001b[0m \u001b[1;32mfrom\u001b[0m \u001b[0mmatplotlib\u001b[0m\u001b[1;33m.\u001b[0m\u001b[0mblocking_input\u001b[0m \u001b[1;32mimport\u001b[0m \u001b[0mBlockingMouseInput\u001b[0m\u001b[1;33m,\u001b[0m \u001b[0mBlockingKeyMouseInput\u001b[0m\u001b[1;33m\u001b[0m\u001b[0m\n\u001b[1;32m     42\u001b[0m \u001b[1;32mfrom\u001b[0m \u001b[0mmatplotlib\u001b[0m\u001b[1;33m.\u001b[0m\u001b[0mlegend\u001b[0m \u001b[1;32mimport\u001b[0m \u001b[0mLegend\u001b[0m\u001b[1;33m\u001b[0m\u001b[0m\n",
      "\u001b[0;32mC:\\Python35\\lib\\site-packages\\matplotlib\\axes\\__init__.py\u001b[0m in \u001b[0;36m<module>\u001b[0;34m()\u001b[0m\n\u001b[1;32m      2\u001b[0m                         unicode_literals)\n\u001b[1;32m      3\u001b[0m \u001b[1;33m\u001b[0m\u001b[0m\n\u001b[0;32m----> 4\u001b[0;31m \u001b[1;32mfrom\u001b[0m \u001b[1;33m.\u001b[0m\u001b[0m_subplots\u001b[0m \u001b[1;32mimport\u001b[0m \u001b[1;33m*\u001b[0m\u001b[1;33m\u001b[0m\u001b[0m\n\u001b[0m\u001b[1;32m      5\u001b[0m \u001b[1;32mfrom\u001b[0m \u001b[1;33m.\u001b[0m\u001b[0m_axes\u001b[0m \u001b[1;32mimport\u001b[0m \u001b[1;33m*\u001b[0m\u001b[1;33m\u001b[0m\u001b[0m\n",
      "\u001b[0;32mC:\\Python35\\lib\\site-packages\\matplotlib\\axes\\_subplots.py\u001b[0m in \u001b[0;36m<module>\u001b[0;34m()\u001b[0m\n\u001b[1;32m      8\u001b[0m \u001b[1;32mfrom\u001b[0m \u001b[0mmatplotlib\u001b[0m \u001b[1;32mimport\u001b[0m \u001b[0mdocstring\u001b[0m\u001b[1;33m\u001b[0m\u001b[0m\n\u001b[1;32m      9\u001b[0m \u001b[1;32mimport\u001b[0m \u001b[0mmatplotlib\u001b[0m\u001b[1;33m.\u001b[0m\u001b[0martist\u001b[0m \u001b[1;32mas\u001b[0m \u001b[0mmartist\u001b[0m\u001b[1;33m\u001b[0m\u001b[0m\n\u001b[0;32m---> 10\u001b[0;31m \u001b[1;32mfrom\u001b[0m \u001b[0mmatplotlib\u001b[0m\u001b[1;33m.\u001b[0m\u001b[0maxes\u001b[0m\u001b[1;33m.\u001b[0m\u001b[0m_axes\u001b[0m \u001b[1;32mimport\u001b[0m \u001b[0mAxes\u001b[0m\u001b[1;33m\u001b[0m\u001b[0m\n\u001b[0m\u001b[1;32m     11\u001b[0m \u001b[1;33m\u001b[0m\u001b[0m\n\u001b[1;32m     12\u001b[0m \u001b[1;32mimport\u001b[0m \u001b[0mwarnings\u001b[0m\u001b[1;33m\u001b[0m\u001b[0m\n",
      "\u001b[0;32mC:\\Python35\\lib\\importlib\\_bootstrap.py\u001b[0m in \u001b[0;36m_find_and_load\u001b[0;34m(name, import_)\u001b[0m\n",
      "\u001b[0;32mC:\\Python35\\lib\\importlib\\_bootstrap.py\u001b[0m in \u001b[0;36m_find_and_load_unlocked\u001b[0;34m(name, import_)\u001b[0m\n",
      "\u001b[0;32mC:\\Python35\\lib\\importlib\\_bootstrap.py\u001b[0m in \u001b[0;36m_load_unlocked\u001b[0;34m(spec)\u001b[0m\n",
      "\u001b[0;32mC:\\Python35\\lib\\importlib\\_bootstrap_external.py\u001b[0m in \u001b[0;36mexec_module\u001b[0;34m(self, module)\u001b[0m\n",
      "\u001b[0;32mC:\\Python35\\lib\\importlib\\_bootstrap_external.py\u001b[0m in \u001b[0;36mget_code\u001b[0;34m(self, fullname)\u001b[0m\n",
      "\u001b[0;32mC:\\Python35\\lib\\importlib\\_bootstrap_external.py\u001b[0m in \u001b[0;36mget_data\u001b[0;34m(self, path)\u001b[0m\n",
      "\u001b[0;31mKeyboardInterrupt\u001b[0m: "
     ]
    }
   ],
   "source": [
    "import numpy as np\n",
    "import matplotlib.pyplot as plt\n",
    "import warnings\n",
    "from matplotlib.colors import ListedColormap\n",
    "%matplotlib inline\n",
    "warnings.filterwarnings('ignore')\n",
    "\n",
    "# for plotting\n",
    "cmap2 = ListedColormap(['r', 'k'])\n",
    "cmap4 = ListedColormap(['k', 'r', 'g', 'b'])\n",
    "plt.rc(\"font\",family=\"sans-serif\",size=20)\n",
    "plt.rcParams[\"font.sans-serif\"] = \"Arial\"\n",
    "\n",
    "#hold data\n",
    "mice = list()\n",
    "synthetic = list()"
   ]
  },
  {
   "cell_type": "markdown",
   "metadata": {},
   "source": [
    "### Synthetic Dataset"
   ]
  },
  {
   "cell_type": "markdown",
   "metadata": {},
   "source": [
    "* There are 4 clusters in the target dataset (but we do not know their labels *a priori*. \n",
    "* In the background, all the data pts are from the same distribution, which has different variances in three subspaces."
   ]
  },
  {
   "cell_type": "code",
   "execution_count": null,
   "metadata": {
    "collapsed": true
   },
   "outputs": [],
   "source": [
    "from scipy.stats import ortho_group\n",
    "np.random.seed(0) # for reproducibility\n",
    "\n",
    "# In A there are four clusters.\n",
    "N = 400; D = 30; gap=1.5\n",
    "rotation = ortho_group.rvs(dim=D)\n",
    "\n",
    "target_ = np.zeros((N, D))\n",
    "target_[:,0:10] = np.random.normal(0,10,(N,10))\n",
    "# group 1\n",
    "target_[0:100, 10:20] = np.random.normal(-gap,1,(100,10))\n",
    "target_[0:100, 20:30] = np.random.normal(-gap,1,(100,10))\n",
    "# group 2\n",
    "target_[100:200, 10:20] = np.random.normal(-gap,1,(100,10))\n",
    "target_[100:200, 20:30] = np.random.normal(gap,1,(100,10))\n",
    "# group 3\n",
    "target_[200:300, 10:20] = np.random.normal(2*gap,1,(100,10))\n",
    "target_[200:300, 20:30] = np.random.normal(-gap,1,(100,10))\n",
    "# group 4\n",
    "target_[300:400, 10:20] = np.random.normal(2*gap,1,(100,10))\n",
    "target_[300:400, 20:30] = np.random.normal(gap,1,(100,10))\n",
    "target_ = target_.dot(rotation)\n",
    "sub_group_labels_ = [0]*100+[1]*100+[2]*100+[3]*100\n",
    "\n",
    "background_ = np.zeros((N, D))\n",
    "background_[:,0:10] = np.random.normal(0,10,(N,10))\n",
    "background_[:,10:20] = np.random.normal(0,3,(N,10))\n",
    "background_[:,20:30] = np.random.normal(0,1,(N,10))\n",
    "background_ = background_.dot(rotation)\n",
    "\n",
    "data_ = np.concatenate((background_, target_))\n",
    "labels_ = len(background_)*[0] + len(target_)*[1]"
   ]
  },
  {
   "cell_type": "markdown",
   "metadata": {},
   "source": [
    "### Mice Protein Dataset"
   ]
  },
  {
   "cell_type": "code",
   "execution_count": null,
   "metadata": {
    "collapsed": true
   },
   "outputs": [],
   "source": [
    "data = np.genfromtxt('datasets/Data_Cortex_Nuclear.csv',delimiter=',',\n",
    "                     skip_header=1,usecols=range(1,78),filling_values=0)\n",
    "classes = np.genfromtxt('datasets/Data_Cortex_Nuclear.csv',delimiter=',',\n",
    "                        skip_header=1,usecols=range(78,81),dtype=None)"
   ]
  },
  {
   "cell_type": "markdown",
   "metadata": {},
   "source": [
    "* Target consists of mice that have been stimulated by shock therapy. Some have Down Syndrome, others don't, but we assume this label is not known to us *a priori*\n",
    "* Background consists of mice that have not been stimulated by shock therapy, and do not have Down Syndrome"
   ]
  },
  {
   "cell_type": "code",
   "execution_count": null,
   "metadata": {
    "collapsed": true
   },
   "outputs": [],
   "source": [
    "target_idx_A = np.where((classes[:,-1]==b'S/C') & (classes[:,-2]==b'Saline') & (classes[:,-3]==b'Control'))[0]\n",
    "target_idx_B = np.where((classes[:,-1]==b'S/C') & (classes[:,-2]==b'Saline') & (classes[:,-3]==b'Ts65Dn'))[0]\n",
    "\n",
    "sub_group_labels = len(target_idx_A)*[0] + len(target_idx_B)*[1]\n",
    "target_idx = np.concatenate((target_idx_A,target_idx_B))                                                                          \n",
    "\n",
    "target = data[target_idx]\n",
    "target = (target-np.mean(target,axis=0)) / np.std(target,axis=0) # standardize the dataset\n",
    "\n",
    "background_idx = np.where((classes[:,-1]==b'C/S') & (classes[:,-2]==b'Saline') & (classes[:,-3]==b'Control'))\n",
    "# background_idx = np.where((classes[:,-1]==b'C/S') & (classes[:,-2]==b'Saline') & (classes[:,-3]==b'Ts65Dn'))\n",
    "background = data[background_idx]\n",
    "background = (background-np.mean(background,axis=0)) / np.std(background,axis=0) # standardize the dataset\n",
    "labels = len(background)*[0] + len(target)*[1]\n",
    "data = np.concatenate((background, target))"
   ]
  },
  {
   "cell_type": "markdown",
   "metadata": {},
   "source": [
    "# Comparing cPCA to Other Dimensionality Reduction Techniques"
   ]
  },
  {
   "cell_type": "markdown",
   "metadata": {},
   "source": [
    "### PCA and cPCA"
   ]
  },
  {
   "cell_type": "markdown",
   "metadata": {},
   "source": [
    "(PCA corresponds to the first column, since it is equivalent to cPCA with $\\alpha=0$)"
   ]
  },
  {
   "cell_type": "code",
   "execution_count": null,
   "metadata": {
    "collapsed": false
   },
   "outputs": [],
   "source": [
    "from contrastive import CPCA\n",
    "mdl = CPCA()\n",
    "\n",
    "mdl.fit_transform(target, background, plot=True, active_labels=sub_group_labels)\n",
    "projected_data = mdl.fit_transform(target, background, plot=False, active_labels=sub_group_labels)\n",
    "mdl.fit_transform(target_, background_, plot=True, active_labels=sub_group_labels_)\n",
    "projected_data_ = mdl.fit_transform(target_, background_, plot=False, active_labels=sub_group_labels_)\n",
    "\n",
    "mice.append(projected_data[1])\n",
    "mice.append(projected_data[0])\n",
    "\n",
    "synthetic.append(projected_data_[2])\n",
    "synthetic.append(projected_data_[0])"
   ]
  },
  {
   "cell_type": "markdown",
   "metadata": {},
   "source": [
    "* PCA is unable to resolve the subgroups of interest in the mice data,  while cPCA is able to separate the 2 subgroups with an appropriate (and automatically discovered) value of $\\alpha$\n",
    "* PCA is unable to resolve the subgroups in the synthetic data, while cPCA is able to resolve all 4 with an appropriate (and automatically discovered) value of $\\alpha$ (2.15). An alternative value of $\\alpha$ (151.18) discovers another interesting projection."
   ]
  },
  {
   "cell_type": "markdown",
   "metadata": {},
   "source": [
    "### Supervised PCA"
   ]
  },
  {
   "cell_type": "code",
   "execution_count": null,
   "metadata": {
    "collapsed": false
   },
   "outputs": [],
   "source": [
    "from supervised import SupervisedPCAClassifier\n",
    "\n",
    "mdl = SupervisedPCAClassifier(n_components=2)\n",
    "\n",
    "projected_data = mdl.fit(data, labels).get_transformed_data(target)\n",
    "plt.figure()\n",
    "plt.scatter(*projected_data.T, c=sub_group_labels, cmap=cmap2)\n",
    "plt.title('Supervised PCA: Mice Data')\n",
    "\n",
    "projected_data_ = mdl.fit(data_, labels_).get_transformed_data(target_)\n",
    "plt.figure()\n",
    "plt.scatter(*projected_data_.T, c=sub_group_labels_, cmap=cmap4)\n",
    "plt.title('Supervised PCA: Synthetic Data')\n",
    "\n",
    "mice.append(projected_data)\n",
    "synthetic.append(projected_data_)"
   ]
  },
  {
   "cell_type": "markdown",
   "metadata": {},
   "source": [
    "* Supervised PCA is unable to resolve the subgroups of interest in the mice data\n",
    "* Supervised PCA is unable to resolve the subgroups in the synthetic data"
   ]
  },
  {
   "cell_type": "markdown",
   "metadata": {},
   "source": [
    "### Linear Discriminant Analysis (LDA)"
   ]
  },
  {
   "cell_type": "markdown",
   "metadata": {},
   "source": [
    "Note: because LDA returns at most $c-1$ components, where $c$ is the number of classes in the data, in this case, the target data is projected onto exactly 1 dimension (the x-dimension). For ease of visualization, we assign a random value to the y-dimension of each data point, and plot them in 2 dimensions."
   ]
  },
  {
   "cell_type": "code",
   "execution_count": null,
   "metadata": {
    "collapsed": false
   },
   "outputs": [],
   "source": [
    "from sklearn.discriminant_analysis import LinearDiscriminantAnalysis as LDA\n",
    "mdl = LDA()\n",
    "\n",
    "projected_data = mdl.fit(data, labels).transform(target)\n",
    "random_y_values = np.random.random(size=projected_data.shape)\n",
    "plt.figure()\n",
    "plt.scatter(projected_data, random_y_values, c=sub_group_labels, cmap=cmap2)\n",
    "plt.title('Linear Discriminant Analysis: Mice Data')\n",
    "\n",
    "mice.append(np.array([projected_data,random_y_values]).T)\n",
    "\n",
    "projected_data_ = mdl.fit(data_, labels_).transform(target_)\n",
    "random_y_values_ = np.random.random(size=projected_data_.shape)\n",
    "plt.figure()\n",
    "plt.scatter(projected_data_, random_y_values_, c=sub_group_labels_, cmap=cmap4)\n",
    "plt.title('Linear Discriminant Analysis: Synthetic Data')\n",
    "\n",
    "synthetic.append(np.array([projected_data_,random_y_values_]).T)"
   ]
  },
  {
   "cell_type": "markdown",
   "metadata": {},
   "source": [
    "* LDA is unable to resolve the subgroups of interest in the mice data\n",
    "* LDA is able to somewhat resolve two pairs of subgroups in the synthetic data, but not all four"
   ]
  },
  {
   "cell_type": "markdown",
   "metadata": {},
   "source": [
    "### Quadratic Discriminant Analysis (QDA)"
   ]
  },
  {
   "cell_type": "markdown",
   "metadata": {},
   "source": [
    "Note: Unlike the PCA or LDA, the QDA does not return a subspace on which to project the data for dimensionality reduction. Instead, we plotted each point based according to its posterior class probability."
   ]
  },
  {
   "cell_type": "code",
   "execution_count": null,
   "metadata": {
    "collapsed": false
   },
   "outputs": [],
   "source": [
    "from sklearn.discriminant_analysis import QuadraticDiscriminantAnalysis as QDA\n",
    "from numpy import inf\n",
    "mdl = QDA()\n",
    "\n",
    "projected_data = mdl.fit(data, labels).predict_log_proba(target)[:,0]\n",
    "projected_data[projected_data == -inf] = -800\n",
    "random_y_values = np.random.random(size=projected_data.shape)\n",
    "plt.figure()\n",
    "# print(projected_data.shape,random_y_values.shape)\n",
    "plt.scatter(projected_data, random_y_values, c=sub_group_labels, cmap=cmap2)\n",
    "plt.title('Quadratic Discriminant Analysis: Mice Data')\n",
    "\n",
    "mice.append(np.array([projected_data,random_y_values]).T)\n",
    "\n",
    "projected_data_ = mdl.fit(data_, labels_).predict_log_proba(target_)[:,0]\n",
    "random_y_values_ = np.random.random(size=projected_data_.shape)\n",
    "plt.figure()\n",
    "plt.scatter(projected_data_, random_y_values_, c=sub_group_labels_, cmap=cmap4)\n",
    "plt.title('Quadratic Discriminant Analysis: Synthetic Data')\n",
    "\n",
    "synthetic.append(np.array([projected_data_,random_y_values_]).T)"
   ]
  },
  {
   "cell_type": "markdown",
   "metadata": {},
   "source": [
    "* QDA is unable to resolve the subgroups of interest in the mice data\n",
    "* QDA is unable to resolve the subgroups in the synthetic data"
   ]
  },
  {
   "cell_type": "markdown",
   "metadata": {},
   "source": [
    "### Linear Regression + PCA"
   ]
  },
  {
   "cell_type": "code",
   "execution_count": null,
   "metadata": {
    "collapsed": false
   },
   "outputs": [],
   "source": [
    "from sklearn.linear_model import LinearRegression\n",
    "from sklearn.decomposition import PCA\n",
    "\n",
    "lr = LinearRegression()\n",
    "lr.fit(data, labels)\n",
    "idx = np.where(np.abs(lr.coef_)>0.0001)[0] # get significant directions\n",
    "target_reduced = target[:,idx]\n",
    "mdl = PCA(n_components=2)\n",
    "projected_data = mdl.fit_transform(target_reduced)\n",
    "plt.figure()\n",
    "plt.scatter(*projected_data.T, c=sub_group_labels, cmap=cmap2)\n",
    "plt.title('Limma: Mice Data')\n",
    "\n",
    "mice.append(projected_data)\n",
    "\n",
    "lr = LinearRegression()\n",
    "lr.fit(data_, labels_)\n",
    "idx = np.where(np.abs(lr.coef_)>0.0001)[0] # get significant directions\n",
    "target_reduced_ = target_[:,idx]\n",
    "mdl = PCA(n_components=2)\n",
    "projected_data_ = mdl.fit_transform(target_reduced_)\n",
    "plt.figure()\n",
    "plt.scatter(*projected_data_.T, c=sub_group_labels_, cmap=cmap4)\n",
    "plt.title('Limma: Synthetic Data')\n",
    "\n",
    "synthetic.append(projected_data_)"
   ]
  },
  {
   "cell_type": "markdown",
   "metadata": {
    "collapsed": true
   },
   "source": [
    "### Multidimensional Scaling (MDS)"
   ]
  },
  {
   "cell_type": "code",
   "execution_count": null,
   "metadata": {
    "collapsed": false
   },
   "outputs": [],
   "source": [
    "from sklearn.manifold import MDS\n",
    "np.random.seed(0) # for reproducibility\n",
    "\n",
    "mdl = MDS(n_components=2)\n",
    "projected_data = mdl.fit_transform(target)\n",
    "plt.figure()\n",
    "plt.scatter(*projected_data.T, c=sub_group_labels, cmap=cmap2)\n",
    "plt.title('Multidimensional Scaling: Mice Data')\n",
    "\n",
    "projected_data_ = mdl.fit_transform(target_)\n",
    "plt.figure()\n",
    "plt.scatter(*projected_data_.T, c=sub_group_labels_, cmap=cmap4)\n",
    "plt.title('Multidimensional Scaling: Synthetic Data')\n",
    "\n",
    "mice.append(projected_data)\n",
    "synthetic.append(projected_data_)"
   ]
  },
  {
   "cell_type": "markdown",
   "metadata": {},
   "source": [
    "* MDS is mostly able to resolve the subgroups of interest in the mice data, although not as well as cPCA (if the same plot had been plotted without the subgroups colored differently, it would be harder to resolve the subgroups)\n",
    "* MDS is unable to resolve the subgroups in the synthetic data"
   ]
  },
  {
   "cell_type": "markdown",
   "metadata": {},
   "source": [
    "### Principal Component Pursuit"
   ]
  },
  {
   "cell_type": "code",
   "execution_count": null,
   "metadata": {
    "collapsed": false
   },
   "outputs": [],
   "source": [
    "from pursuit import R_pca\n",
    "from sklearn.decomposition import PCA\n",
    "\n",
    "mdl = PCA(n_components=2) # this will be used to select the top 2 principal pursuit components\n",
    "\n",
    "rpca = R_pca(target)\n",
    "L, S = rpca.fit(max_iter=10000) #L is the low-rank structure we are interested in \n",
    "projected_data = mdl.fit_transform(L)\n",
    "plt.figure()\n",
    "plt.scatter(*projected_data.T, c=sub_group_labels, cmap=cmap2)\n",
    "\n",
    "rpca_ = R_pca(target_)\n",
    "L_, S_ = rpca_.fit(max_iter=10000) #L is the low-rank structure we are interested in \n",
    "projected_data_ = mdl.fit_transform(L_)\n",
    "plt.figure()\n",
    "plt.scatter(*projected_data_.T, c=sub_group_labels_, cmap=cmap4)\n",
    "\n",
    "mice.append(projected_data)\n",
    "synthetic.append(projected_data_)"
   ]
  },
  {
   "cell_type": "markdown",
   "metadata": {},
   "source": [
    "* PCP is unable to resolve the subgroups of interest in the mice data (again, consider if the subgroups had not been color-coded), although it does a better job than PCA\n",
    "* PCP is unable to resolve the subgroups in the synthetic data perfectly"
   ]
  },
  {
   "cell_type": "markdown",
   "metadata": {},
   "source": [
    "### Factor Analysis"
   ]
  },
  {
   "cell_type": "code",
   "execution_count": null,
   "metadata": {
    "collapsed": false
   },
   "outputs": [],
   "source": [
    "from sklearn.decomposition import FactorAnalysis as FA\n",
    "\n",
    "mdl = FA(n_components=2)\n",
    "\n",
    "projected_data = mdl.fit_transform(target)\n",
    "plt.figure()\n",
    "plt.scatter(*projected_data.T, c=sub_group_labels, cmap=cmap2)\n",
    "plt.title('Factor Analysis: Mice Data')\n",
    "\n",
    "projected_data_ = mdl.fit_transform(target_)\n",
    "plt.figure()\n",
    "plt.scatter(*projected_data_.T, c=sub_group_labels_, cmap=cmap4)\n",
    "plt.title('Factor Analysis: Synthetic Data')\n",
    "\n",
    "mice.append(projected_data)\n",
    "synthetic.append(projected_data_)"
   ]
  },
  {
   "cell_type": "markdown",
   "metadata": {},
   "source": [
    "* FA is unable to resolve the subgroups of interest in the mice data (again, consider if the subgroups had not been color-coded), although it does a better job than PCA\n",
    "* FA is unable to resolve the subgroups in the synthetic data perfectly"
   ]
  },
  {
   "cell_type": "markdown",
   "metadata": {},
   "source": [
    "### Independent Component Analysis"
   ]
  },
  {
   "cell_type": "code",
   "execution_count": null,
   "metadata": {
    "collapsed": false
   },
   "outputs": [],
   "source": [
    "from sklearn.decomposition import FastICA as ICA\n",
    "\n",
    "mdl = ICA(n_components=2)\n",
    "\n",
    "projected_data = mdl.fit_transform(target)\n",
    "plt.figure()\n",
    "plt.scatter(*projected_data.T, c=sub_group_labels, cmap=cmap2)\n",
    "plt.title('ICA: Mice Data')\n",
    "\n",
    "projected_data_ = mdl.fit_transform(target_)\n",
    "plt.figure()\n",
    "plt.scatter(*projected_data_.T, c=sub_group_labels_, cmap=cmap4)\n",
    "plt.title('ICA: Synthetic Data')\n",
    "\n",
    "mice.append(projected_data)\n",
    "synthetic.append(projected_data_)"
   ]
  },
  {
   "cell_type": "markdown",
   "metadata": {},
   "source": [
    "* ICA is unable to resolve the subgroups of interest in the mice data\n",
    "* ICA is unable to resolve the subgroups in the synthetic datam"
   ]
  },
  {
   "cell_type": "markdown",
   "metadata": {},
   "source": [
    "# Comprehensive Plots"
   ]
  },
  {
   "cell_type": "code",
   "execution_count": null,
   "metadata": {
    "collapsed": false
   },
   "outputs": [],
   "source": [
    "method_names = ['cPCA','PCA','Supervised PCA','LDA','QDA','LR+PCA','MDS','PC Pursuit','FA','ICA']\n",
    "plt.figure(figsize=[15, 20])\n",
    "\n",
    "k = len(mice)\n",
    "for i in range(k):\n",
    "    #ax = plt.subplot((k+1)/2,2,i+1)\n",
    "    ax = plt.subplot(4,3,i+1+2*(i>0)+(i==0))\n",
    "    plt.scatter(*mice[i].T, c=sub_group_labels, cmap=cmap2, alpha=0.6)\n",
    "    plt.title(method_names[i])\n",
    "plt.tight_layout()\n",
    "plt.savefig('mice10.jpg')"
   ]
  },
  {
   "cell_type": "code",
   "execution_count": null,
   "metadata": {
    "collapsed": false
   },
   "outputs": [],
   "source": [
    "method_names = ['cPCA','PCA','Supervised PCA','LDA','QDA','LR+PCA','MDS','PC Pursuit','FA','ICA']\n",
    "plt.figure(figsize=[15, 20])\n",
    "\n",
    "k = len(mice)\n",
    "for i in range(k):\n",
    "    #ax = plt.subplot((k+1)/2,2,i+1)\n",
    "    ax = plt.subplot(4,3,i+1+2*(i>0)+(i==0))\n",
    "    plt.scatter(*synthetic[i].T, c=sub_group_labels_, cmap=cmap4, alpha=0.6)\n",
    "    plt.title(method_names[i])\n",
    "plt.tight_layout()\n",
    "plt.savefig('synthetic10.jpg')"
   ]
  },
  {
   "cell_type": "code",
   "execution_count": null,
   "metadata": {
    "collapsed": true
   },
   "outputs": [],
   "source": []
  }
 ],
 "metadata": {
  "kernelspec": {
   "display_name": "Python 3",
   "language": "python",
   "name": "python3"
  },
  "language_info": {
   "codemirror_mode": {
    "name": "ipython",
    "version": 3
   },
   "file_extension": ".py",
   "mimetype": "text/x-python",
   "name": "python",
   "nbconvert_exporter": "python",
   "pygments_lexer": "ipython3",
   "version": "3.5.2"
  }
 },
 "nbformat": 4,
 "nbformat_minor": 2
}
