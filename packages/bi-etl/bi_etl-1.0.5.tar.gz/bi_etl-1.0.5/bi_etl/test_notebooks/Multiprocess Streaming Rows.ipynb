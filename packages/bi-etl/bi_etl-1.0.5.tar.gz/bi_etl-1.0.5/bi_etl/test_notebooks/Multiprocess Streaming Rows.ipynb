{
 "cells": [
  {
   "cell_type": "code",
   "execution_count": null,
   "metadata": {},
   "outputs": [],
   "source": [
    "import sys\n",
    "!{sys.executable} -m pip install fastavro"
   ]
  },
  {
   "cell_type": "code",
   "execution_count": null,
   "metadata": {},
   "outputs": [],
   "source": [
    "import sys\n",
    "for x in ['../../']:\n",
    "    if x in sys.path:\n",
    "        sys.path.remove(x)\n",
    "try:\n",
    "    import bi_etl\n",
    "except ImportError:\n",
    "    sys.path.append('../../')    \n",
    "    import bi_etl\n",
    "print(\"Imported\")"
   ]
  },
  {
   "cell_type": "code",
   "execution_count": null,
   "metadata": {},
   "outputs": [],
   "source": []
  },
  {
   "cell_type": "code",
   "execution_count": null,
   "metadata": {
    "scrolled": true
   },
   "outputs": [],
   "source": [
    "import random\n",
    "from datetime import datetime\n",
    "\n",
    "from bi_etl.components.row.row import Row\n",
    "from bi_etl.components.row.row_iteration_header import RowIterationHeader\n",
    "\n",
    "\n",
    "avro_schema = {\n",
    "    'doc': 'Test data cols A-Z.',\n",
    "    'name': 'TestData',\n",
    "    'namespace': 'test',\n",
    "    'type': 'record',\n",
    "    'fields': [        \n",
    "    ],\n",
    "}\n",
    "\n",
    "columns = [f'column_{chr(n)}' for n in range(ord('a'), ord('z') + 1)]\n",
    "iteration_header = RowIterationHeader(logical_name='Test', columns_in_order=columns)\n",
    "source_rows = list()\n",
    "for row_num in range(10000):\n",
    "    data_list = list()\n",
    "    for col_num, col in enumerate(columns):\n",
    "        if col_num == 0:            \n",
    "            if row_num == 0:\n",
    "                avro_schema['fields'].append({'name': col, 'type': 'long'})                \n",
    "            data_list.append(row_num)\n",
    "        elif col_num % 3 == 0:\n",
    "            if row_num == 0:\n",
    "                avro_schema['fields'].append({'name': col, 'type': ['int','null']})\n",
    "            if random.random() < 0.9:\n",
    "                data_list.append(col_num)\n",
    "            else:\n",
    "                data_list.append(None)            \n",
    "        elif col_num % 3 == 1:\n",
    "            if row_num == 0:\n",
    "                avro_schema['fields'].append({'name': col, 'type': ['string','null']})\n",
    "            if random.random() < 0.9:\n",
    "                data_list.append(f'Value {col_num} for {col} on row {row_num}')\n",
    "            else:\n",
    "                data_list.append(None)                        \n",
    "        else:\n",
    "            if row_num == 0:\n",
    "                avro_schema['fields'].append({'name': col, \n",
    "                                              'type': ['float','null']}\n",
    "                                            )            \n",
    "            if random.random() < 0.9:\n",
    "                data_list.append(datetime.now())\n",
    "            else:\n",
    "                data_list.append(None)                        \n",
    "    row = Row(iteration_header, data=data_list)\n",
    "    source_rows.append(row)\n",
    "source_rows[:2]\n",
    "avro_schema"
   ]
  },
  {
   "cell_type": "code",
   "execution_count": null,
   "metadata": {},
   "outputs": [],
   "source": [
    "import fastavro\n",
    "\n",
    "parsed_schema = fastavro.parse_schema(avro_schema)\n",
    "parsed_schema"
   ]
  },
  {
   "cell_type": "code",
   "execution_count": null,
   "metadata": {},
   "outputs": [],
   "source": [
    "def row_generator():    \n",
    "    for row in source_rows:\n",
    "        #row_list = row.values().copy()\n",
    "        row_dict = row.as_dict\n",
    "        for col in range(2, 26, 3):            \n",
    "            col_name = columns[col]\n",
    "            value = row_dict[col_name]\n",
    "            # print(f'col {col} = {value}')\n",
    "            if value is not None:\n",
    "                try:\n",
    "                    row_dict[col_name] = value.timestamp()\n",
    "                except AttributeError:\n",
    "                    raise ValueError(f'{value} in col {col} on row {row}')\n",
    "        #print(row_dict)\n",
    "        yield row_dict\n",
    "        \n",
    "\n",
    "with open('test.avro', 'wb') as out:\n",
    "    fastavro.writer(out, parsed_schema, row_generator())"
   ]
  },
  {
   "cell_type": "code",
   "execution_count": null,
   "metadata": {},
   "outputs": [],
   "source": [
    "from io import BytesIO"
   ]
  },
  {
   "cell_type": "code",
   "execution_count": null,
   "metadata": {
    "scrolled": true
   },
   "outputs": [],
   "source": [
    "#%%timeit\n",
    "str_out = BytesIO()\n",
    "fastavro.writer(str_out, parsed_schema, row_generator())"
   ]
  },
  {
   "cell_type": "code",
   "execution_count": null,
   "metadata": {},
   "outputs": [],
   "source": [
    "str_out.seek(0)\n",
    "for record in fastavro.reader(str_out):    \n",
    "    for col in range(2, 26, 3):            \n",
    "        col_name = columns[col]\n",
    "        value = record[col_name]\n",
    "        # print(f'col {col} = {value}')\n",
    "        if value is not None:\n",
    "            try:\n",
    "                record[col_name] = datetime.fromtimestamp(value)\n",
    "            except Exception as e:\n",
    "                raise ValueError(f'{e} on {value} in col {col} {col_name} on row {record}')\n",
    "    if record['column_a'] == 1:\n",
    "        print(record)\n",
    "    "
   ]
  },
  {
   "cell_type": "code",
   "execution_count": null,
   "metadata": {},
   "outputs": [],
   "source": [
    "%%timeit\n",
    "for row in row_generator():\n",
    "    str_out = BytesIO()\n",
    "    fastavro.schemaless_writer(str_out, parsed_schema, row)\n",
    "    \n",
    "    del row\n",
    "    str_out.seek(0)\n",
    "    \n",
    "    #Mock msg receiver\n",
    "    record = fastavro.schemaless_reader(str_out, parsed_schema)\n",
    "    for col in range(2, 26, 3):            \n",
    "        col_name = columns[col]\n",
    "        value = record[col_name]\n",
    "        # print(f'col {col} = {value}')\n",
    "        if value is not None:\n",
    "            try:\n",
    "                record[col_name] = datetime.fromtimestamp(value)\n",
    "            except Exception as e:\n",
    "                raise ValueError(f'{e} on {value} in col {col} {col_name} on row {record}')\n",
    "    "
   ]
  },
  {
   "cell_type": "code",
   "execution_count": null,
   "metadata": {},
   "outputs": [],
   "source": [
    "import json"
   ]
  },
  {
   "cell_type": "code",
   "execution_count": null,
   "metadata": {},
   "outputs": [],
   "source": [
    "%%timeit\n",
    "for row in row_generator():    \n",
    "    str_out = json.dumps(row)\n",
    "    \n",
    "    del row\n",
    "    \n",
    "    #Mock msg receiver\n",
    "    record = json.loads(str_out)\n",
    "    for col in range(2, 26, 3):            \n",
    "        col_name = columns[col]\n",
    "        value = record[col_name]\n",
    "        # print(f'col {col} = {value}')\n",
    "        if value is not None:\n",
    "            try:\n",
    "                record[col_name] = datetime.fromtimestamp(value)\n",
    "            except Exception as e:\n",
    "                raise ValueError(f'{e} on {value} in col {col} {col_name} on row {record}')\n",
    "#     if record['column_a'] == 2:\n",
    "#         print(record)"
   ]
  },
  {
   "cell_type": "code",
   "execution_count": null,
   "metadata": {},
   "outputs": [],
   "source": [
    "import csv"
   ]
  },
  {
   "cell_type": "code",
   "execution_count": null,
   "metadata": {},
   "outputs": [],
   "source": [
    "%%timeit\n",
    "str_out = StringIO()\n",
    "writer = csv.DictWriter(str_out, columns)\n",
    "reader = csv.DictReader(str_out, columns)\n",
    "for row in row_generator():     \n",
    "    str_out.seek(0)\n",
    "    writer.writerow(row)\n",
    "    \n",
    "    del row\n",
    "    str_out.seek(0)\n",
    "    \n",
    "    #Mock msg receiver\n",
    "    record = reader.__next__()\n",
    "    record = dict(record)\n",
    "    #print(record)\n",
    "    \n",
    "    for col_num, col_name in enumerate(columns):\n",
    "        value = record[col_name]\n",
    "        if value == '' or value is None:\n",
    "            record[col_name] = None\n",
    "            #print(f'{col_name}, {value}, {record[col_name]} {type(record[col_name])}, None')\n",
    "        elif col_num == 0:            \n",
    "            record[col_name] = int(value)\n",
    "            #print(f'{col_name}, {value}, {record[col_name]} {type(record[col_name])}, pk')\n",
    "        elif col_num % 3 == 0:\n",
    "            record[col_name] = int(value)\n",
    "            #print(f'{col_name}, {value}, {record[col_name]} {type(record[col_name])}, int')\n",
    "        elif col_num % 3 == 1:\n",
    "            pass            \n",
    "            #print(f'{col_name}, {value}, {record[col_name]} {type(record[col_name])}, str')\n",
    "        else:\n",
    "            record[col_name] = datetime.fromtimestamp(float(value))                \n",
    "            #print(f'{col_name}, {value}, {record[col_name]} {type(record[col_name])}, dt')\n",
    "#     if record['column_a'] == 2:\n",
    "#         print(record)\n",
    "#         break"
   ]
  }
 ],
 "metadata": {
  "kernelspec": {
   "display_name": "Python 3",
   "language": "python",
   "name": "python3"
  },
  "language_info": {
   "codemirror_mode": {
    "name": "ipython",
    "version": 3
   },
   "file_extension": ".py",
   "mimetype": "text/x-python",
   "name": "python",
   "nbconvert_exporter": "python",
   "pygments_lexer": "ipython3",
   "version": "3.8.5"
  }
 },
 "nbformat": 4,
 "nbformat_minor": 4
}