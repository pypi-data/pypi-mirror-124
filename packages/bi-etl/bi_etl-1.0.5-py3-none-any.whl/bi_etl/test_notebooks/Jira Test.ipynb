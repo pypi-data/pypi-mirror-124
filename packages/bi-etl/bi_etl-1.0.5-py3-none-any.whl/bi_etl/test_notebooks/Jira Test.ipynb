{
 "cells": [
  {
   "cell_type": "code",
   "execution_count": 1,
   "metadata": {},
   "outputs": [
    {
     "name": "stdout",
     "output_type": "stream",
     "text": [
      "Imported\n"
     ]
    }
   ],
   "source": [
    "import sys\n",
    "for x in ['../../']:\n",
    "    if x in sys.path:\n",
    "        sys.path.remove(x)\n",
    "try:\n",
    "    import bi_etl\n",
    "except ImportError:\n",
    "    sys.path.append('../../')    \n",
    "    import bi_etl\n",
    "print(\"Imported\")"
   ]
  },
  {
   "cell_type": "code",
   "execution_count": 2,
   "metadata": {
    "pycharm": {
     "name": "#%%\n"
    }
   },
   "outputs": [
    {
     "name": "stderr",
     "output_type": "stream",
     "text": [
      "INFO:bi_etl.bi_config_parser:Read config file(s) ['C:\\\\code\\\\Analytics-ETL-dev_derek\\\\config.ini']\n",
      "INFO:bi_etl.bi_config_parser:Read config file(s) ['C:\\\\code\\\\Analytics-ETL-dev_derek\\\\config.ini', 'C:\\\\code\\\\Analytics-ETL-dev_derek\\\\config.ini', 'C:\\\\code\\\\Analytics-ETL-dev_derek\\\\config_shared.ini', 'C:\\\\code\\\\Analytics-ETL-dev_derek\\\\config_shared.ini']\n",
      "DEBUG:bi_etl.notifiers.jira.Jira:user id=system_etl\n",
      "DEBUG:bi_etl.notifiers.jira.Jira:server=https://jira.pepfar.net\n",
      "DEBUG:bi_etl.notifiers.jira.Jira:project=DMA\n",
      "DEBUG:urllib3.connectionpool:Starting new HTTPS connection (1): jira.pepfar.net\n",
      "DEBUG:urllib3.connectionpool:https://jira.pepfar.net:443 \"GET /rest/api/2/serverInfo HTTP/1.1\" 200 None\n",
      "DEBUG:urllib3.connectionpool:https://jira.pepfar.net:443 \"GET /rest/api/2/field HTTP/1.1\" 200 None\n",
      "DEBUG:bi_etl.notifiers.jira.Jira:priority not specified in config\n"
     ]
    }
   ],
   "source": [
    "from bi_etl.notifiers.jira import Jira\n",
    "from bi_etl.bi_config_parser import BIConfigParser\n",
    "            \n",
    "config = BIConfigParser()\n",
    "config.read_config_ini()\n",
    "\n",
    "jira = Jira(config=config, config_section='Jira_Bug')"
   ]
  },
  {
   "cell_type": "code",
   "execution_count": null,
   "metadata": {
    "pycharm": {
     "name": "#%%\n"
    }
   },
   "outputs": [],
   "source": [
    "search_text = \"\"\"\n",
    "    \\t %12 [] () /\\ ~`!@#$%^&*()_+=- {} | \" ' : ; \\n \\r\n",
    "    Validation Test Should Return No Results\n",
    "    \"\"\"\n",
    "\n",
    "jira.search(search_text)"
   ]
  },
  {
   "cell_type": "code",
   "execution_count": 7,
   "metadata": {
    "pycharm": {
     "name": "#%%\n"
    }
   },
   "outputs": [
    {
     "name": "stderr",
     "output_type": "stream",
     "text": [
      "DEBUG:urllib3.connectionpool:Resetting dropped connection: jira.pepfar.net\n",
      "DEBUG:urllib3.connectionpool:https://jira.pepfar.net:443 \"GET /rest/api/2/search?jql=project%3D%22DMA%22+AND+summary~%22Add++tab++to+the+list+of+special+characters+for+iHub+ETL+auto+generation+of+Jira+issues%22+AND+status+not+in+%28%22Closed%22%29&startAt=0&validateQuery=True&maxResults=50 HTTP/1.1\" 200 None\n"
     ]
    },
    {
     "data": {
      "text/plain": [
       "[<JIRA Issue: key='DMA-508', id='11500'>]"
      ]
     },
     "execution_count": 7,
     "metadata": {},
     "output_type": "execute_result"
    }
   ],
   "source": [
    "jira.search('Add \"tab\" to the list of special characters for iHub ETL auto-generation of Jira issues')"
   ]
  },
  {
   "cell_type": "code",
   "execution_count": 3,
   "metadata": {
    "pycharm": {
     "name": "#%%\n"
    }
   },
   "outputs": [
    {
     "name": "stderr",
     "output_type": "stream",
     "text": [
      "DEBUG:bi_etl.notifiers.jira.Jira:subject=Add \"tab\" to the list of special characters for iHub ETL auto-generation of Jira issues\n",
      "DEBUG:bi_etl.notifiers.jira.Jira:message=Testing send\n",
      "DEBUG:urllib3.connectionpool:Resetting dropped connection: jira.pepfar.net\n",
      "DEBUG:urllib3.connectionpool:https://jira.pepfar.net:443 \"GET /rest/api/2/search?jql=project%3D%22DMA%22+AND+summary~%22Add++tab++to+the+list+of+special+characters+for+iHub+ETL+auto+generation+of+Jira+issues%22+AND+status+not+in+%28%22Closed%22%29&startAt=0&validateQuery=True&maxResults=50 HTTP/1.1\" 200 None\n",
      "DEBUG:bi_etl.notifiers.jira.Jira:issue_dict={'project': {'key': 'DMA'}, 'summary': 'Add \"tab\" to the list of special characters for iHub ETL auto-generation of Jira issues', 'description': 'Testing send', 'issuetype': {'name': 'Bug'}, 'components': [{'name': 'ETL'}]}\n",
      "DEBUG:urllib3.connectionpool:https://jira.pepfar.net:443 \"POST /rest/api/2/issue HTTP/1.1\" 201 None\n",
      "DEBUG:urllib3.connectionpool:https://jira.pepfar.net:443 \"GET /rest/api/2/issue/DMA-538 HTTP/1.1\" 200 None\n",
      "INFO:bi_etl.notifiers.jira.Jira:Created new case DMA-538\n"
     ]
    }
   ],
   "source": [
    "jira.comment_on_each_instance = True\n",
    "jira.send(\n",
    "    'Jira Test Notebook',\n",
    "    'Testing send',\n",
    ")"
   ]
  },
  {
   "cell_type": "code",
   "execution_count": 3,
   "metadata": {},
   "outputs": [
    {
     "name": "stderr",
     "output_type": "stream",
     "text": [
      "DEBUG:bi_etl.notifiers.jira.Jira:subject=Jira Test Notebook\n",
      "DEBUG:bi_etl.notifiers.jira.Jira:message=None\n",
      "DEBUG:urllib3.connectionpool:https://jira.pepfar.net:443 \"GET /rest/api/2/search?jql=project%3D%22DMA%22+AND+summary~%22Jira+Test+Notebook%22+AND+status+not+in+%28%22Closed%22%29&startAt=0&validateQuery=True&maxResults=50 HTTP/1.1\" 200 None\n",
      "INFO:bi_etl.notifiers.jira.Jira:Found existing open case DMA-539.\n",
      "DEBUG:urllib3.connectionpool:https://jira.pepfar.net:443 \"POST /rest/api/2/issue/DMA-539/comment HTTP/1.1\" 201 None\n",
      "INFO:bi_etl.notifiers.jira.Jira:Added comment to case DMA-539.\n"
     ]
    }
   ],
   "source": [
    "jira.comment_on_each_instance = True\n",
    "jira.send(\n",
    "    'Jira Test Notebook',\n",
    "    None,\n",
    ")"
   ]
  },
  {
   "cell_type": "code",
   "execution_count": null,
   "metadata": {
    "pycharm": {
     "name": "#%%\n"
    }
   },
   "outputs": [],
   "source": [
    "# Raw Jira Search test\n",
    "jira.jira_conn.search_issues('project=DMA')"
   ]
  },
  {
   "cell_type": "code",
   "execution_count": null,
   "metadata": {
    "pycharm": {
     "name": "#%%\n"
    }
   },
   "outputs": [],
   "source": [
    "# import sys\n",
    "# !{sys.executable} -m pip install jira==2.0.0"
   ]
  }
 ],
 "metadata": {
  "kernelspec": {
   "display_name": "Python 3",
   "language": "python",
   "name": "python3"
  },
  "language_info": {
   "codemirror_mode": {
    "name": "ipython",
    "version": 3
   },
   "file_extension": ".py",
   "mimetype": "text/x-python",
   "name": "python",
   "nbconvert_exporter": "python",
   "pygments_lexer": "ipython3",
   "version": "3.8.5"
  }
 },
 "nbformat": 4,
 "nbformat_minor": 4
}
