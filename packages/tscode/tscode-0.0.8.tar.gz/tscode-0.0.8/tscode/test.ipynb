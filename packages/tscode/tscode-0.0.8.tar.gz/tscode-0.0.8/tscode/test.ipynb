{
 "cells": [
  {
   "cell_type": "code",
   "execution_count": null,
   "metadata": {},
   "outputs": [],
   "source": [
    "from cclib.io import ccread\n",
    "import numpy as np\n",
    "\n",
    "from tscode.clustered_csearch import clustered_csearch\n",
    "from tscode.utils import write_xyz\n",
    "\n",
    "# data = ccread(r'C:\\Users\\Nik\\Desktop\\miller\\pep\\pep.xyz')\n",
    "data = ccread(r'C:\\Users\\Nik\\Desktop\\complete\\cat_salt.xyz')\n",
    "confs = clustered_csearch(data.atomcoords[0], data.atomnos, n=20, n_out=10)\n",
    "\n",
    "# data = ccread(r'C:\\Users\\Nik\\Desktop\\complete\\ts1.xyz')\n",
    "# confs = clustered_csearch(data.atomcoords[0], data.atomnos, constrained_indexes=np.array([[133, 168], [23, 151], [61, 130]]), n=20)"
   ]
  },
  {
   "cell_type": "code",
   "execution_count": null,
   "metadata": {},
   "outputs": [],
   "source": [
    "with open('most_diverse_confs.xyz', 'w') as f:\n",
    "    for c in confs:\n",
    "        write_xyz(c, data.atomnos, f)\n",
    "confs.shape"
   ]
  },
  {
   "cell_type": "code",
   "execution_count": null,
   "metadata": {},
   "outputs": [],
   "source": [
    "from sklearn.cluster import KMeans\n",
    "from tscode.hypermolecule_class import align_structures\n",
    "\n",
    "def most_diverse_conformers(n, structures, energies=None):\n",
    "    '''\n",
    "    Return the n most diverse structures from the set.\n",
    "    Divides the structures in n subsets and:\n",
    "    - If the enrgy list is given, chooses the\n",
    "      one with the lowest energy from each.\n",
    "    _ If it is not, picks the most diverse structures.\n",
    "    '''\n",
    "    structures = align_structures(structures)\n",
    "    features = structures.reshape((structures.shape[0], structures.shape[1]*structures.shape[2]))\n",
    "\n",
    "    kmeans = KMeans(n_clusters=n)\n",
    "    kmeans.fit(features)\n",
    "\n",
    "    if energies is not None:\n",
    "        clusters = [[] for _ in range(n)]\n",
    "        for coords, energy, c in zip(structures, energies, kmeans.labels_):\n",
    "            clusters[c].append((coords, energy))\n",
    "\n",
    "        output = []\n",
    "        for group in clusters:\n",
    "            sorted_s, _ = zip(*sorted(group, key=lambda x: x[1]))\n",
    "            output.append(sorted_s[0])\n",
    "\n",
    "    else: # afford the most distant structure from each cluster\n",
    "        centers = kmeans.cluster_centers_.reshape((n, *structures.shape[1:3]))\n",
    "\n",
    "        clusters = [[] for _ in range(n)]\n",
    "        for coords, c in zip(structures, kmeans.labels_):\n",
    "            clusters[c].append(coords)\n",
    "\n",
    "        r = np.arange(len(clusters))\n",
    "        output = []\n",
    "        for cluster in clusters:\n",
    "            cumdists = [np.sum(np.linalg.norm(centers[r!=c]-ref, axis=2)) for c, ref in enumerate(cluster)]\n",
    "            furthest = cluster[cumdists.index(max(cumdists))]\n",
    "            output.append(furthest)\n",
    "\n",
    "    return np.array(output)\n",
    "\n",
    "mdc = most_diverse_conformers(10, confs)\n",
    "mdc.shape"
   ]
  },
  {
   "cell_type": "code",
   "execution_count": null,
   "metadata": {},
   "outputs": [],
   "source": [
    "with open('most_diverse.xyz', 'w') as f:\n",
    "    for c in mdc:\n",
    "        write_xyz(c, data.atomnos, f)"
   ]
  },
  {
   "cell_type": "code",
   "execution_count": null,
   "metadata": {},
   "outputs": [],
   "source": [
    "import numpy as np\n",
    "from numba import njit\n",
    "from math import sqrt\n",
    "\n",
    "# rmp_j = njit()(rmp)\n",
    "t = np.array([3.45,4.55,8])\n",
    "\n",
    "@njit\n",
    "def norm_of(v):\n",
    "    return sqrt((v[0]**2 + v[1]**2 + v[2]**2))"
   ]
  },
  {
   "cell_type": "code",
   "execution_count": null,
   "metadata": {},
   "outputs": [],
   "source": [
    "%timeit np.linalg.norm(t)"
   ]
  },
  {
   "cell_type": "code",
   "execution_count": null,
   "metadata": {},
   "outputs": [],
   "source": [
    "%timeit norm_of(t)"
   ]
  },
  {
   "cell_type": "code",
   "execution_count": null,
   "metadata": {},
   "outputs": [],
   "source": [
    "from math import sqrt\n",
    "\n",
    "@njit\n",
    "def norm1(v):\n",
    "    return v / sqrt((v[0]**2 + v[1]**2 + v[2]**2))\n",
    "\n",
    "@njit\n",
    "def norm2(v): #fastest\n",
    "    return v / sqrt((v[0]*v[0] + v[1]*v[1] + v[2]*v[2]))"
   ]
  },
  {
   "cell_type": "code",
   "execution_count": null,
   "metadata": {},
   "outputs": [],
   "source": [
    "%timeit norm1(t)"
   ]
  },
  {
   "cell_type": "code",
   "execution_count": null,
   "metadata": {},
   "outputs": [],
   "source": [
    "%timeit norm2(t)"
   ]
  },
  {
   "cell_type": "markdown",
   "metadata": {},
   "source": [
    "%timeit com(c, a)"
   ]
  },
  {
   "cell_type": "code",
   "execution_count": 4,
   "metadata": {},
   "outputs": [
    {
     "data": {
      "text/plain": [
       "array([[ 0.78867513, -0.21132487,  0.57735027],\n",
       "       [ 0.57735027,  0.57735027, -0.57735027],\n",
       "       [-0.21132487,  0.78867513,  0.57735027]])"
      ]
     },
     "execution_count": 4,
     "metadata": {},
     "output_type": "execute_result"
    }
   ],
   "source": [
    "from scipy.spatial.transform import Rotation as R\n",
    "import numpy as np\n",
    "from numba import njit\n",
    "\n",
    "a = np.array([1,0,0])\n",
    "b = np.array([0,1,0])\n",
    "c = np.array([1,1,0])\n",
    "d = np.array([0,1,1])\n",
    "\n",
    "vanilla = R.align_vectors((c, d),(a, b))[0].as_matrix() # a goes to c, b goes to d\n",
    "vanilla"
   ]
  },
  {
   "cell_type": "code",
   "execution_count": 17,
   "metadata": {},
   "outputs": [
    {
     "data": {
      "text/plain": [
       "array([[ 0.78867513, -0.21132487,  0.57735027],\n",
       "       [ 0.57735027,  0.57735027, -0.57735027],\n",
       "       [-0.21132487,  0.78867513,  0.57735027]])"
      ]
     },
     "execution_count": 17,
     "metadata": {},
     "output_type": "execute_result"
    }
   ],
   "source": [
    "def align_vectors_v2(a, b):\n",
    "    \n",
    "    B = np.zeros((3,3))\n",
    "    for i in range(3):\n",
    "        for k in range(3):\n",
    "            tot = 0\n",
    "            for j in range(2):\n",
    "                tot += a[j][i]*b[j][k]\n",
    "            B[i,k] = tot\n",
    "\n",
    "    u, s, vh = np.linalg.svd(B)\n",
    "\n",
    "    # Correct improper rotation if necessary (as in Kabsch algorithm)\n",
    "    if np.linalg.det(u @ vh) < 0:\n",
    "        s[-1] = -s[-1]\n",
    "        u[:, -1] = -u[:, -1]\n",
    "\n",
    "    return np.dot(u, vh)\n",
    "\n",
    "align_vectors_v2((c, d),(a, b))"
   ]
  },
  {
   "cell_type": "code",
   "execution_count": null,
   "metadata": {},
   "outputs": [],
   "source": [
    "def align_vectors_v3(a, b):\n",
    "    \n",
    "    B = np.zeros((3,3))\n",
    "    for i in range(3):\n",
    "        for k in range(3):\n",
    "            tot = 0\n",
    "            for j in range(2):\n",
    "                tot += a[j][i]*b[j][k]\n",
    "            B[i,k] = tot\n",
    "\n",
    "    u, s, vh = np.linalg.svd(B)\n",
    "\n",
    "    # Correct improper rotation if necessary (as in Kabsch algorithm)\n",
    "    if np.linalg.det(u @ vh) < 0:\n",
    "        s[-1] = -s[-1]\n",
    "        u[:, -1] = -u[:, -1]\n",
    "\n",
    "    return np.dot(u, vh)\n",
    "\n",
    "align_vectors_v2((c, d),(a, b))"
   ]
  },
  {
   "cell_type": "code",
   "execution_count": 18,
   "metadata": {},
   "outputs": [],
   "source": [
    "av3 = njit()(align_vectors_v2)"
   ]
  },
  {
   "cell_type": "code",
   "execution_count": 6,
   "metadata": {},
   "outputs": [
    {
     "name": "stdout",
     "output_type": "stream",
     "text": [
      "138 µs ± 2.34 µs per loop (mean ± std. dev. of 7 runs, 10000 loops each)\n"
     ]
    }
   ],
   "source": [
    "%timeit R.align_vectors((c, d),(a, b))[0].as_matrix()"
   ]
  },
  {
   "cell_type": "code",
   "execution_count": 7,
   "metadata": {},
   "outputs": [
    {
     "name": "stdout",
     "output_type": "stream",
     "text": [
      "68.1 µs ± 6.05 µs per loop (mean ± std. dev. of 7 runs, 10000 loops each)\n"
     ]
    }
   ],
   "source": [
    "%timeit align_vectors_v2((c, d),(a, b))"
   ]
  },
  {
   "cell_type": "code",
   "execution_count": 20,
   "metadata": {},
   "outputs": [
    {
     "name": "stdout",
     "output_type": "stream",
     "text": [
      "9.76 µs ± 281 ns per loop (mean ± std. dev. of 7 runs, 100000 loops each)\n"
     ]
    }
   ],
   "source": [
    "%timeit av3((c, d),(a, b))"
   ]
  },
  {
   "cell_type": "code",
   "execution_count": 27,
   "metadata": {},
   "outputs": [
    {
     "ename": "BrokenProcessPool",
     "evalue": "A process in the process pool was terminated abruptly while the future was running or pending.",
     "output_type": "error",
     "traceback": [
      "\u001b[1;31m---------------------------------------------------------------------------\u001b[0m",
      "\u001b[1;31mBrokenProcessPool\u001b[0m                         Traceback (most recent call last)",
      "\u001b[1;32m~\\AppData\\Local\\Temp/ipykernel_10924/2771295535.py\u001b[0m in \u001b[0;36m<module>\u001b[1;34m\u001b[0m\n\u001b[0;32m     15\u001b[0m     \u001b[0mgen\u001b[0m \u001b[1;33m=\u001b[0m \u001b[0mppe\u001b[0m\u001b[1;33m.\u001b[0m\u001b[0mmap\u001b[0m\u001b[1;33m(\u001b[0m\u001b[0mdata\u001b[0m\u001b[1;33m.\u001b[0m\u001b[0mappend\u001b[0m\u001b[1;33m,\u001b[0m \u001b[1;33m(\u001b[0m\u001b[1;36m2\u001b[0m\u001b[1;33m,\u001b[0m\u001b[1;36m3\u001b[0m\u001b[1;33m,\u001b[0m\u001b[1;36m4\u001b[0m\u001b[1;33m,\u001b[0m\u001b[1;36m5\u001b[0m\u001b[1;33m)\u001b[0m\u001b[1;33m)\u001b[0m\u001b[1;33m\u001b[0m\u001b[1;33m\u001b[0m\u001b[0m\n\u001b[0;32m     16\u001b[0m \u001b[1;33m\u001b[0m\u001b[0m\n\u001b[1;32m---> 17\u001b[1;33m \u001b[1;32mfor\u001b[0m \u001b[0mg\u001b[0m \u001b[1;32min\u001b[0m \u001b[0mgen\u001b[0m\u001b[1;33m:\u001b[0m\u001b[1;33m\u001b[0m\u001b[1;33m\u001b[0m\u001b[0m\n\u001b[0m\u001b[0;32m     18\u001b[0m     \u001b[1;32mpass\u001b[0m\u001b[1;33m\u001b[0m\u001b[1;33m\u001b[0m\u001b[0m\n",
      "\u001b[1;32m~\\anaconda3\\envs\\tscode\\lib\\concurrent\\futures\\process.py\u001b[0m in \u001b[0;36m_chain_from_iterable_of_lists\u001b[1;34m(iterable)\u001b[0m\n\u001b[0;32m    482\u001b[0m     \u001b[0mcareful\u001b[0m \u001b[1;32mnot\u001b[0m \u001b[0mto\u001b[0m \u001b[0mkeep\u001b[0m \u001b[0mreferences\u001b[0m \u001b[0mto\u001b[0m \u001b[0myielded\u001b[0m \u001b[0mobjects\u001b[0m\u001b[1;33m.\u001b[0m\u001b[1;33m\u001b[0m\u001b[1;33m\u001b[0m\u001b[0m\n\u001b[0;32m    483\u001b[0m     \"\"\"\n\u001b[1;32m--> 484\u001b[1;33m     \u001b[1;32mfor\u001b[0m \u001b[0melement\u001b[0m \u001b[1;32min\u001b[0m \u001b[0miterable\u001b[0m\u001b[1;33m:\u001b[0m\u001b[1;33m\u001b[0m\u001b[1;33m\u001b[0m\u001b[0m\n\u001b[0m\u001b[0;32m    485\u001b[0m         \u001b[0melement\u001b[0m\u001b[1;33m.\u001b[0m\u001b[0mreverse\u001b[0m\u001b[1;33m(\u001b[0m\u001b[1;33m)\u001b[0m\u001b[1;33m\u001b[0m\u001b[1;33m\u001b[0m\u001b[0m\n\u001b[0;32m    486\u001b[0m         \u001b[1;32mwhile\u001b[0m \u001b[0melement\u001b[0m\u001b[1;33m:\u001b[0m\u001b[1;33m\u001b[0m\u001b[1;33m\u001b[0m\u001b[0m\n",
      "\u001b[1;32m~\\anaconda3\\envs\\tscode\\lib\\concurrent\\futures\\_base.py\u001b[0m in \u001b[0;36mresult_iterator\u001b[1;34m()\u001b[0m\n\u001b[0;32m    617\u001b[0m                     \u001b[1;31m# Careful not to keep a reference to the popped future\u001b[0m\u001b[1;33m\u001b[0m\u001b[1;33m\u001b[0m\u001b[1;33m\u001b[0m\u001b[0m\n\u001b[0;32m    618\u001b[0m                     \u001b[1;32mif\u001b[0m \u001b[0mtimeout\u001b[0m \u001b[1;32mis\u001b[0m \u001b[1;32mNone\u001b[0m\u001b[1;33m:\u001b[0m\u001b[1;33m\u001b[0m\u001b[1;33m\u001b[0m\u001b[0m\n\u001b[1;32m--> 619\u001b[1;33m                         \u001b[1;32myield\u001b[0m \u001b[0mfs\u001b[0m\u001b[1;33m.\u001b[0m\u001b[0mpop\u001b[0m\u001b[1;33m(\u001b[0m\u001b[1;33m)\u001b[0m\u001b[1;33m.\u001b[0m\u001b[0mresult\u001b[0m\u001b[1;33m(\u001b[0m\u001b[1;33m)\u001b[0m\u001b[1;33m\u001b[0m\u001b[1;33m\u001b[0m\u001b[0m\n\u001b[0m\u001b[0;32m    620\u001b[0m                     \u001b[1;32melse\u001b[0m\u001b[1;33m:\u001b[0m\u001b[1;33m\u001b[0m\u001b[1;33m\u001b[0m\u001b[0m\n\u001b[0;32m    621\u001b[0m                         \u001b[1;32myield\u001b[0m \u001b[0mfs\u001b[0m\u001b[1;33m.\u001b[0m\u001b[0mpop\u001b[0m\u001b[1;33m(\u001b[0m\u001b[1;33m)\u001b[0m\u001b[1;33m.\u001b[0m\u001b[0mresult\u001b[0m\u001b[1;33m(\u001b[0m\u001b[0mend_time\u001b[0m \u001b[1;33m-\u001b[0m \u001b[0mtime\u001b[0m\u001b[1;33m.\u001b[0m\u001b[0mmonotonic\u001b[0m\u001b[1;33m(\u001b[0m\u001b[1;33m)\u001b[0m\u001b[1;33m)\u001b[0m\u001b[1;33m\u001b[0m\u001b[1;33m\u001b[0m\u001b[0m\n",
      "\u001b[1;32m~\\anaconda3\\envs\\tscode\\lib\\concurrent\\futures\\_base.py\u001b[0m in \u001b[0;36mresult\u001b[1;34m(self, timeout)\u001b[0m\n\u001b[0;32m    435\u001b[0m                     \u001b[1;32mraise\u001b[0m \u001b[0mCancelledError\u001b[0m\u001b[1;33m(\u001b[0m\u001b[1;33m)\u001b[0m\u001b[1;33m\u001b[0m\u001b[1;33m\u001b[0m\u001b[0m\n\u001b[0;32m    436\u001b[0m                 \u001b[1;32melif\u001b[0m \u001b[0mself\u001b[0m\u001b[1;33m.\u001b[0m\u001b[0m_state\u001b[0m \u001b[1;33m==\u001b[0m \u001b[0mFINISHED\u001b[0m\u001b[1;33m:\u001b[0m\u001b[1;33m\u001b[0m\u001b[1;33m\u001b[0m\u001b[0m\n\u001b[1;32m--> 437\u001b[1;33m                     \u001b[1;32mreturn\u001b[0m \u001b[0mself\u001b[0m\u001b[1;33m.\u001b[0m\u001b[0m__get_result\u001b[0m\u001b[1;33m(\u001b[0m\u001b[1;33m)\u001b[0m\u001b[1;33m\u001b[0m\u001b[1;33m\u001b[0m\u001b[0m\n\u001b[0m\u001b[0;32m    438\u001b[0m \u001b[1;33m\u001b[0m\u001b[0m\n\u001b[0;32m    439\u001b[0m                 \u001b[0mself\u001b[0m\u001b[1;33m.\u001b[0m\u001b[0m_condition\u001b[0m\u001b[1;33m.\u001b[0m\u001b[0mwait\u001b[0m\u001b[1;33m(\u001b[0m\u001b[0mtimeout\u001b[0m\u001b[1;33m)\u001b[0m\u001b[1;33m\u001b[0m\u001b[1;33m\u001b[0m\u001b[0m\n",
      "\u001b[1;32m~\\anaconda3\\envs\\tscode\\lib\\concurrent\\futures\\_base.py\u001b[0m in \u001b[0;36m__get_result\u001b[1;34m(self)\u001b[0m\n\u001b[0;32m    387\u001b[0m         \u001b[1;32mif\u001b[0m \u001b[0mself\u001b[0m\u001b[1;33m.\u001b[0m\u001b[0m_exception\u001b[0m\u001b[1;33m:\u001b[0m\u001b[1;33m\u001b[0m\u001b[1;33m\u001b[0m\u001b[0m\n\u001b[0;32m    388\u001b[0m             \u001b[1;32mtry\u001b[0m\u001b[1;33m:\u001b[0m\u001b[1;33m\u001b[0m\u001b[1;33m\u001b[0m\u001b[0m\n\u001b[1;32m--> 389\u001b[1;33m                 \u001b[1;32mraise\u001b[0m \u001b[0mself\u001b[0m\u001b[1;33m.\u001b[0m\u001b[0m_exception\u001b[0m\u001b[1;33m\u001b[0m\u001b[1;33m\u001b[0m\u001b[0m\n\u001b[0m\u001b[0;32m    390\u001b[0m             \u001b[1;32mfinally\u001b[0m\u001b[1;33m:\u001b[0m\u001b[1;33m\u001b[0m\u001b[1;33m\u001b[0m\u001b[0m\n\u001b[0;32m    391\u001b[0m                 \u001b[1;31m# Break a reference cycle with the exception in self._exception\u001b[0m\u001b[1;33m\u001b[0m\u001b[1;33m\u001b[0m\u001b[1;33m\u001b[0m\u001b[0m\n",
      "\u001b[1;31mBrokenProcessPool\u001b[0m: A process in the process pool was terminated abruptly while the future was running or pending."
     ]
    }
   ],
   "source": [
    "from concurrent.futures import ProcessPoolExecutor\n",
    "import time\n",
    "\n",
    "class DataClass:\n",
    "    def __init__(self):\n",
    "        self.data = []\n",
    "\n",
    "    def append(self, n):\n",
    "        print('Added ', n)\n",
    "        self.data.append(n)\n",
    "\n",
    "data = DataClass()\n",
    "\n",
    "with ProcessPoolExecutor() as ppe:\n",
    "    gen = ppe.map(data.append, (2,3,4,5))\n",
    "\n",
    "for g in gen:\n",
    "    pass"
   ]
  },
  {
   "cell_type": "code",
   "execution_count": 18,
   "metadata": {},
   "outputs": [
    {
     "name": "stdout",
     "output_type": "stream",
     "text": [
      "[([10, 15], [3, 4]), ([35, 45, 48], [5, 6, 7]), ([170, 180, 190], [0, 1, 2])]\n"
     ]
    }
   ],
   "source": [
    "def get_plot_segments(x, y, max_step=15):\n",
    "    '''\n",
    "    Returns a zip object with x, y segments.\n",
    "    A single segment has x values with separation\n",
    "    smaller than max_step.\n",
    "    '''\n",
    "    x, y = zip(*sorted(zip(x, y), key=lambda t: t[0]))\n",
    "    \n",
    "    x_slices, y_slices = [], []\n",
    "    for i, n in enumerate(x):\n",
    "        if abs(x[i-1]-n) > max_step:\n",
    "            x_slices.append([])\n",
    "            y_slices.append([])\n",
    "\n",
    "        x_slices[-1].append(n)\n",
    "        y_slices[-1].append(y[i])\n",
    "\n",
    "    return zip(x_slices, y_slices)\n",
    "\n",
    "\n",
    "x = (170, 180, 190, 10, 15, 35, 45, 48)\n",
    "y = range(len(x))\n",
    "\n",
    "lines = get_plot_segments(x, y)\n",
    "print(list(lines))"
   ]
  },
  {
   "cell_type": "code",
   "execution_count": null,
   "metadata": {},
   "outputs": [],
   "source": []
  }
 ],
 "metadata": {
  "interpreter": {
   "hash": "4f04e799b876ff2294d50a362dbfe989b3e429703ff66e21305a6118600dd96e"
  },
  "kernelspec": {
   "display_name": "Python 3.8.10 64-bit ('tscode': conda)",
   "name": "python3"
  },
  "language_info": {
   "codemirror_mode": {
    "name": "ipython",
    "version": 3
   },
   "file_extension": ".py",
   "mimetype": "text/x-python",
   "name": "python",
   "nbconvert_exporter": "python",
   "pygments_lexer": "ipython3",
   "version": "3.8.10"
  },
  "orig_nbformat": 4
 },
 "nbformat": 4,
 "nbformat_minor": 2
}
