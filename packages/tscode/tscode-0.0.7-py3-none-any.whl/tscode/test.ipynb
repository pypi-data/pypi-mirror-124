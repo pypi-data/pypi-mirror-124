{
 "cells": [
  {
   "cell_type": "code",
   "execution_count": null,
   "source": [
    "from cclib.io import ccread\r\n",
    "import numpy as np\r\n",
    "\r\n",
    "from tscode.clustered_csearch import clustered_csearch\r\n",
    "from tscode.utils import write_xyz\r\n",
    "\r\n",
    "# data = ccread(r'C:\\Users\\Nik\\Desktop\\miller\\pep\\pep.xyz')\r\n",
    "data = ccread(r'C:\\Users\\Nik\\Desktop\\complete\\cat_salt.xyz')\r\n",
    "confs = clustered_csearch(data.atomcoords[0], data.atomnos, n=20, n_out=10)\r\n",
    "\r\n",
    "# data = ccread(r'C:\\Users\\Nik\\Desktop\\complete\\ts1.xyz')\r\n",
    "# confs = clustered_csearch(data.atomcoords[0], data.atomnos, constrained_indexes=np.array([[133, 168], [23, 151], [61, 130]]), n=20)"
   ],
   "outputs": [],
   "metadata": {}
  },
  {
   "cell_type": "code",
   "execution_count": null,
   "source": [
    "with open('most_diverse_confs.xyz', 'w') as f:\r\n",
    "    for c in confs:\r\n",
    "        write_xyz(c, data.atomnos, f)\r\n",
    "confs.shape"
   ],
   "outputs": [],
   "metadata": {}
  },
  {
   "cell_type": "code",
   "execution_count": null,
   "source": [
    "from sklearn.cluster import KMeans\r\n",
    "from tscode.hypermolecule_class import align_structures\r\n",
    "\r\n",
    "def most_diverse_conformers(n, structures, energies=None):\r\n",
    "    '''\r\n",
    "    Return the n most diverse structures from the set.\r\n",
    "    Divides the structures in n subsets and:\r\n",
    "    - If the enrgy list is given, chooses the\r\n",
    "      one with the lowest energy from each.\r\n",
    "    _ If it is not, picks the most diverse structures.\r\n",
    "    '''\r\n",
    "    structures = align_structures(structures)\r\n",
    "    features = structures.reshape((structures.shape[0], structures.shape[1]*structures.shape[2]))\r\n",
    "\r\n",
    "    kmeans = KMeans(n_clusters=n)\r\n",
    "    kmeans.fit(features)\r\n",
    "\r\n",
    "    if energies is not None:\r\n",
    "        clusters = [[] for _ in range(n)]\r\n",
    "        for coords, energy, c in zip(structures, energies, kmeans.labels_):\r\n",
    "            clusters[c].append((coords, energy))\r\n",
    "\r\n",
    "        output = []\r\n",
    "        for group in clusters:\r\n",
    "            sorted_s, _ = zip(*sorted(group, key=lambda x: x[1]))\r\n",
    "            output.append(sorted_s[0])\r\n",
    "\r\n",
    "    else: # afford the most distant structure from each cluster\r\n",
    "        centers = kmeans.cluster_centers_.reshape((n, *structures.shape[1:3]))\r\n",
    "\r\n",
    "        clusters = [[] for _ in range(n)]\r\n",
    "        for coords, c in zip(structures, kmeans.labels_):\r\n",
    "            clusters[c].append(coords)\r\n",
    "\r\n",
    "        r = np.arange(len(clusters))\r\n",
    "        output = []\r\n",
    "        for cluster in clusters:\r\n",
    "            cumdists = [np.sum(np.linalg.norm(centers[r!=c]-ref, axis=2)) for c, ref in enumerate(cluster)]\r\n",
    "            furthest = cluster[cumdists.index(max(cumdists))]\r\n",
    "            output.append(furthest)\r\n",
    "\r\n",
    "    return np.array(output)\r\n",
    "\r\n",
    "mdc = most_diverse_conformers(10, confs)\r\n",
    "mdc.shape"
   ],
   "outputs": [],
   "metadata": {}
  },
  {
   "cell_type": "code",
   "execution_count": null,
   "source": [
    "with open('most_diverse.xyz', 'w') as f:\r\n",
    "    for c in mdc:\r\n",
    "        write_xyz(c, data.atomnos, f)"
   ],
   "outputs": [],
   "metadata": {}
  },
  {
   "cell_type": "code",
   "execution_count": null,
   "source": [
    "import numpy as np\r\n",
    "from numba import njit\r\n",
    "from math import sqrt\r\n",
    "\r\n",
    "# rmp_j = njit()(rmp)\r\n",
    "t = np.array([3.45,4.55,8])\r\n",
    "\r\n",
    "@njit\r\n",
    "def norm_of(v):\r\n",
    "    return sqrt((v[0]**2 + v[1]**2 + v[2]**2))"
   ],
   "outputs": [],
   "metadata": {}
  },
  {
   "cell_type": "code",
   "execution_count": null,
   "source": [
    "%timeit np.linalg.norm(t)"
   ],
   "outputs": [],
   "metadata": {}
  },
  {
   "cell_type": "code",
   "execution_count": null,
   "source": [
    "%timeit norm_of(t)"
   ],
   "outputs": [],
   "metadata": {}
  },
  {
   "cell_type": "code",
   "execution_count": null,
   "source": [
    "from math import sqrt\r\n",
    "\r\n",
    "@njit\r\n",
    "def norm1(v):\r\n",
    "    return v / sqrt((v[0]**2 + v[1]**2 + v[2]**2))\r\n",
    "\r\n",
    "@njit\r\n",
    "def norm2(v): #fastest\r\n",
    "    return v / sqrt((v[0]*v[0] + v[1]*v[1] + v[2]*v[2]))"
   ],
   "outputs": [],
   "metadata": {}
  },
  {
   "cell_type": "code",
   "execution_count": null,
   "source": [
    "%timeit norm1(t)"
   ],
   "outputs": [],
   "metadata": {}
  },
  {
   "cell_type": "code",
   "execution_count": null,
   "source": [
    "%timeit norm2(t)"
   ],
   "outputs": [],
   "metadata": {}
  },
  {
   "cell_type": "markdown",
   "source": [
    "%timeit com(c, a)"
   ],
   "metadata": {}
  },
  {
   "cell_type": "code",
   "execution_count": 4,
   "source": [
    "from scipy.spatial.transform import Rotation as R\r\n",
    "import numpy as np\r\n",
    "from numba import njit\r\n",
    "\r\n",
    "a = np.array([1,0,0])\r\n",
    "b = np.array([0,1,0])\r\n",
    "c = np.array([1,1,0])\r\n",
    "d = np.array([0,1,1])\r\n",
    "\r\n",
    "vanilla = R.align_vectors((c, d),(a, b))[0].as_matrix() # a goes to c, b goes to d\r\n",
    "vanilla"
   ],
   "outputs": [
    {
     "output_type": "execute_result",
     "data": {
      "text/plain": [
       "array([[ 0.78867513, -0.21132487,  0.57735027],\n",
       "       [ 0.57735027,  0.57735027, -0.57735027],\n",
       "       [-0.21132487,  0.78867513,  0.57735027]])"
      ]
     },
     "metadata": {},
     "execution_count": 4
    }
   ],
   "metadata": {}
  },
  {
   "cell_type": "code",
   "execution_count": 17,
   "source": [
    "def align_vectors_v2(a, b):\r\n",
    "    \r\n",
    "    B = np.zeros((3,3))\r\n",
    "    for i in range(3):\r\n",
    "        for k in range(3):\r\n",
    "            tot = 0\r\n",
    "            for j in range(2):\r\n",
    "                tot += a[j][i]*b[j][k]\r\n",
    "            B[i,k] = tot\r\n",
    "\r\n",
    "    u, s, vh = np.linalg.svd(B)\r\n",
    "\r\n",
    "    # Correct improper rotation if necessary (as in Kabsch algorithm)\r\n",
    "    if np.linalg.det(u @ vh) < 0:\r\n",
    "        s[-1] = -s[-1]\r\n",
    "        u[:, -1] = -u[:, -1]\r\n",
    "\r\n",
    "    return np.dot(u, vh)\r\n",
    "\r\n",
    "align_vectors_v2((c, d),(a, b))"
   ],
   "outputs": [
    {
     "output_type": "execute_result",
     "data": {
      "text/plain": [
       "array([[ 0.78867513, -0.21132487,  0.57735027],\n",
       "       [ 0.57735027,  0.57735027, -0.57735027],\n",
       "       [-0.21132487,  0.78867513,  0.57735027]])"
      ]
     },
     "metadata": {},
     "execution_count": 17
    }
   ],
   "metadata": {}
  },
  {
   "cell_type": "code",
   "execution_count": null,
   "source": [
    "def align_vectors_v3(a, b):\r\n",
    "    \r\n",
    "    B = np.zeros((3,3))\r\n",
    "    for i in range(3):\r\n",
    "        for k in range(3):\r\n",
    "            tot = 0\r\n",
    "            for j in range(2):\r\n",
    "                tot += a[j][i]*b[j][k]\r\n",
    "            B[i,k] = tot\r\n",
    "\r\n",
    "    u, s, vh = np.linalg.svd(B)\r\n",
    "\r\n",
    "    # Correct improper rotation if necessary (as in Kabsch algorithm)\r\n",
    "    if np.linalg.det(u @ vh) < 0:\r\n",
    "        s[-1] = -s[-1]\r\n",
    "        u[:, -1] = -u[:, -1]\r\n",
    "\r\n",
    "    return np.dot(u, vh)\r\n",
    "\r\n",
    "align_vectors_v2((c, d),(a, b))"
   ],
   "outputs": [],
   "metadata": {}
  },
  {
   "cell_type": "code",
   "execution_count": 18,
   "source": [
    "av3 = njit()(align_vectors_v2)"
   ],
   "outputs": [],
   "metadata": {}
  },
  {
   "cell_type": "code",
   "execution_count": 6,
   "source": [
    "%timeit R.align_vectors((c, d),(a, b))[0].as_matrix()"
   ],
   "outputs": [
    {
     "output_type": "stream",
     "name": "stdout",
     "text": [
      "138 µs ± 2.34 µs per loop (mean ± std. dev. of 7 runs, 10000 loops each)\n"
     ]
    }
   ],
   "metadata": {}
  },
  {
   "cell_type": "code",
   "execution_count": 7,
   "source": [
    "%timeit align_vectors_v2((c, d),(a, b))"
   ],
   "outputs": [
    {
     "output_type": "stream",
     "name": "stdout",
     "text": [
      "68.1 µs ± 6.05 µs per loop (mean ± std. dev. of 7 runs, 10000 loops each)\n"
     ]
    }
   ],
   "metadata": {}
  },
  {
   "cell_type": "code",
   "execution_count": 20,
   "source": [
    "%timeit av3((c, d),(a, b))"
   ],
   "outputs": [
    {
     "output_type": "stream",
     "name": "stdout",
     "text": [
      "9.76 µs ± 281 ns per loop (mean ± std. dev. of 7 runs, 100000 loops each)\n"
     ]
    }
   ],
   "metadata": {}
  },
  {
   "cell_type": "code",
   "execution_count": 27,
   "source": [
    "from concurrent.futures import ProcessPoolExecutor\r\n",
    "import time\r\n",
    "\r\n",
    "class DataClass:\r\n",
    "    def __init__(self):\r\n",
    "        self.data = []\r\n",
    "\r\n",
    "    def append(self, n):\r\n",
    "        print('Added ', n)\r\n",
    "        self.data.append(n)\r\n",
    "\r\n",
    "data = DataClass()\r\n",
    "\r\n",
    "with ProcessPoolExecutor() as ppe:\r\n",
    "    gen = ppe.map(data.append, (2,3,4,5))\r\n",
    "\r\n",
    "for g in gen:\r\n",
    "    pass"
   ],
   "outputs": [
    {
     "output_type": "error",
     "ename": "BrokenProcessPool",
     "evalue": "A process in the process pool was terminated abruptly while the future was running or pending.",
     "traceback": [
      "\u001b[1;31m---------------------------------------------------------------------------\u001b[0m",
      "\u001b[1;31mBrokenProcessPool\u001b[0m                         Traceback (most recent call last)",
      "\u001b[1;32m~\\AppData\\Local\\Temp/ipykernel_10924/2771295535.py\u001b[0m in \u001b[0;36m<module>\u001b[1;34m\u001b[0m\n\u001b[0;32m     15\u001b[0m     \u001b[0mgen\u001b[0m \u001b[1;33m=\u001b[0m \u001b[0mppe\u001b[0m\u001b[1;33m.\u001b[0m\u001b[0mmap\u001b[0m\u001b[1;33m(\u001b[0m\u001b[0mdata\u001b[0m\u001b[1;33m.\u001b[0m\u001b[0mappend\u001b[0m\u001b[1;33m,\u001b[0m \u001b[1;33m(\u001b[0m\u001b[1;36m2\u001b[0m\u001b[1;33m,\u001b[0m\u001b[1;36m3\u001b[0m\u001b[1;33m,\u001b[0m\u001b[1;36m4\u001b[0m\u001b[1;33m,\u001b[0m\u001b[1;36m5\u001b[0m\u001b[1;33m)\u001b[0m\u001b[1;33m)\u001b[0m\u001b[1;33m\u001b[0m\u001b[1;33m\u001b[0m\u001b[0m\n\u001b[0;32m     16\u001b[0m \u001b[1;33m\u001b[0m\u001b[0m\n\u001b[1;32m---> 17\u001b[1;33m \u001b[1;32mfor\u001b[0m \u001b[0mg\u001b[0m \u001b[1;32min\u001b[0m \u001b[0mgen\u001b[0m\u001b[1;33m:\u001b[0m\u001b[1;33m\u001b[0m\u001b[1;33m\u001b[0m\u001b[0m\n\u001b[0m\u001b[0;32m     18\u001b[0m     \u001b[1;32mpass\u001b[0m\u001b[1;33m\u001b[0m\u001b[1;33m\u001b[0m\u001b[0m\n",
      "\u001b[1;32m~\\anaconda3\\envs\\tscode\\lib\\concurrent\\futures\\process.py\u001b[0m in \u001b[0;36m_chain_from_iterable_of_lists\u001b[1;34m(iterable)\u001b[0m\n\u001b[0;32m    482\u001b[0m     \u001b[0mcareful\u001b[0m \u001b[1;32mnot\u001b[0m \u001b[0mto\u001b[0m \u001b[0mkeep\u001b[0m \u001b[0mreferences\u001b[0m \u001b[0mto\u001b[0m \u001b[0myielded\u001b[0m \u001b[0mobjects\u001b[0m\u001b[1;33m.\u001b[0m\u001b[1;33m\u001b[0m\u001b[1;33m\u001b[0m\u001b[0m\n\u001b[0;32m    483\u001b[0m     \"\"\"\n\u001b[1;32m--> 484\u001b[1;33m     \u001b[1;32mfor\u001b[0m \u001b[0melement\u001b[0m \u001b[1;32min\u001b[0m \u001b[0miterable\u001b[0m\u001b[1;33m:\u001b[0m\u001b[1;33m\u001b[0m\u001b[1;33m\u001b[0m\u001b[0m\n\u001b[0m\u001b[0;32m    485\u001b[0m         \u001b[0melement\u001b[0m\u001b[1;33m.\u001b[0m\u001b[0mreverse\u001b[0m\u001b[1;33m(\u001b[0m\u001b[1;33m)\u001b[0m\u001b[1;33m\u001b[0m\u001b[1;33m\u001b[0m\u001b[0m\n\u001b[0;32m    486\u001b[0m         \u001b[1;32mwhile\u001b[0m \u001b[0melement\u001b[0m\u001b[1;33m:\u001b[0m\u001b[1;33m\u001b[0m\u001b[1;33m\u001b[0m\u001b[0m\n",
      "\u001b[1;32m~\\anaconda3\\envs\\tscode\\lib\\concurrent\\futures\\_base.py\u001b[0m in \u001b[0;36mresult_iterator\u001b[1;34m()\u001b[0m\n\u001b[0;32m    617\u001b[0m                     \u001b[1;31m# Careful not to keep a reference to the popped future\u001b[0m\u001b[1;33m\u001b[0m\u001b[1;33m\u001b[0m\u001b[1;33m\u001b[0m\u001b[0m\n\u001b[0;32m    618\u001b[0m                     \u001b[1;32mif\u001b[0m \u001b[0mtimeout\u001b[0m \u001b[1;32mis\u001b[0m \u001b[1;32mNone\u001b[0m\u001b[1;33m:\u001b[0m\u001b[1;33m\u001b[0m\u001b[1;33m\u001b[0m\u001b[0m\n\u001b[1;32m--> 619\u001b[1;33m                         \u001b[1;32myield\u001b[0m \u001b[0mfs\u001b[0m\u001b[1;33m.\u001b[0m\u001b[0mpop\u001b[0m\u001b[1;33m(\u001b[0m\u001b[1;33m)\u001b[0m\u001b[1;33m.\u001b[0m\u001b[0mresult\u001b[0m\u001b[1;33m(\u001b[0m\u001b[1;33m)\u001b[0m\u001b[1;33m\u001b[0m\u001b[1;33m\u001b[0m\u001b[0m\n\u001b[0m\u001b[0;32m    620\u001b[0m                     \u001b[1;32melse\u001b[0m\u001b[1;33m:\u001b[0m\u001b[1;33m\u001b[0m\u001b[1;33m\u001b[0m\u001b[0m\n\u001b[0;32m    621\u001b[0m                         \u001b[1;32myield\u001b[0m \u001b[0mfs\u001b[0m\u001b[1;33m.\u001b[0m\u001b[0mpop\u001b[0m\u001b[1;33m(\u001b[0m\u001b[1;33m)\u001b[0m\u001b[1;33m.\u001b[0m\u001b[0mresult\u001b[0m\u001b[1;33m(\u001b[0m\u001b[0mend_time\u001b[0m \u001b[1;33m-\u001b[0m \u001b[0mtime\u001b[0m\u001b[1;33m.\u001b[0m\u001b[0mmonotonic\u001b[0m\u001b[1;33m(\u001b[0m\u001b[1;33m)\u001b[0m\u001b[1;33m)\u001b[0m\u001b[1;33m\u001b[0m\u001b[1;33m\u001b[0m\u001b[0m\n",
      "\u001b[1;32m~\\anaconda3\\envs\\tscode\\lib\\concurrent\\futures\\_base.py\u001b[0m in \u001b[0;36mresult\u001b[1;34m(self, timeout)\u001b[0m\n\u001b[0;32m    435\u001b[0m                     \u001b[1;32mraise\u001b[0m \u001b[0mCancelledError\u001b[0m\u001b[1;33m(\u001b[0m\u001b[1;33m)\u001b[0m\u001b[1;33m\u001b[0m\u001b[1;33m\u001b[0m\u001b[0m\n\u001b[0;32m    436\u001b[0m                 \u001b[1;32melif\u001b[0m \u001b[0mself\u001b[0m\u001b[1;33m.\u001b[0m\u001b[0m_state\u001b[0m \u001b[1;33m==\u001b[0m \u001b[0mFINISHED\u001b[0m\u001b[1;33m:\u001b[0m\u001b[1;33m\u001b[0m\u001b[1;33m\u001b[0m\u001b[0m\n\u001b[1;32m--> 437\u001b[1;33m                     \u001b[1;32mreturn\u001b[0m \u001b[0mself\u001b[0m\u001b[1;33m.\u001b[0m\u001b[0m__get_result\u001b[0m\u001b[1;33m(\u001b[0m\u001b[1;33m)\u001b[0m\u001b[1;33m\u001b[0m\u001b[1;33m\u001b[0m\u001b[0m\n\u001b[0m\u001b[0;32m    438\u001b[0m \u001b[1;33m\u001b[0m\u001b[0m\n\u001b[0;32m    439\u001b[0m                 \u001b[0mself\u001b[0m\u001b[1;33m.\u001b[0m\u001b[0m_condition\u001b[0m\u001b[1;33m.\u001b[0m\u001b[0mwait\u001b[0m\u001b[1;33m(\u001b[0m\u001b[0mtimeout\u001b[0m\u001b[1;33m)\u001b[0m\u001b[1;33m\u001b[0m\u001b[1;33m\u001b[0m\u001b[0m\n",
      "\u001b[1;32m~\\anaconda3\\envs\\tscode\\lib\\concurrent\\futures\\_base.py\u001b[0m in \u001b[0;36m__get_result\u001b[1;34m(self)\u001b[0m\n\u001b[0;32m    387\u001b[0m         \u001b[1;32mif\u001b[0m \u001b[0mself\u001b[0m\u001b[1;33m.\u001b[0m\u001b[0m_exception\u001b[0m\u001b[1;33m:\u001b[0m\u001b[1;33m\u001b[0m\u001b[1;33m\u001b[0m\u001b[0m\n\u001b[0;32m    388\u001b[0m             \u001b[1;32mtry\u001b[0m\u001b[1;33m:\u001b[0m\u001b[1;33m\u001b[0m\u001b[1;33m\u001b[0m\u001b[0m\n\u001b[1;32m--> 389\u001b[1;33m                 \u001b[1;32mraise\u001b[0m \u001b[0mself\u001b[0m\u001b[1;33m.\u001b[0m\u001b[0m_exception\u001b[0m\u001b[1;33m\u001b[0m\u001b[1;33m\u001b[0m\u001b[0m\n\u001b[0m\u001b[0;32m    390\u001b[0m             \u001b[1;32mfinally\u001b[0m\u001b[1;33m:\u001b[0m\u001b[1;33m\u001b[0m\u001b[1;33m\u001b[0m\u001b[0m\n\u001b[0;32m    391\u001b[0m                 \u001b[1;31m# Break a reference cycle with the exception in self._exception\u001b[0m\u001b[1;33m\u001b[0m\u001b[1;33m\u001b[0m\u001b[1;33m\u001b[0m\u001b[0m\n",
      "\u001b[1;31mBrokenProcessPool\u001b[0m: A process in the process pool was terminated abruptly while the future was running or pending."
     ]
    }
   ],
   "metadata": {}
  },
  {
   "cell_type": "code",
   "execution_count": null,
   "source": [],
   "outputs": [],
   "metadata": {}
  }
 ],
 "metadata": {
  "orig_nbformat": 4,
  "language_info": {
   "name": "python",
   "version": "3.8.10",
   "mimetype": "text/x-python",
   "codemirror_mode": {
    "name": "ipython",
    "version": 3
   },
   "pygments_lexer": "ipython3",
   "nbconvert_exporter": "python",
   "file_extension": ".py"
  },
  "kernelspec": {
   "name": "python3",
   "display_name": "Python 3.8.10 64-bit ('tscode': conda)"
  },
  "interpreter": {
   "hash": "4f04e799b876ff2294d50a362dbfe989b3e429703ff66e21305a6118600dd96e"
  }
 },
 "nbformat": 4,
 "nbformat_minor": 2
}