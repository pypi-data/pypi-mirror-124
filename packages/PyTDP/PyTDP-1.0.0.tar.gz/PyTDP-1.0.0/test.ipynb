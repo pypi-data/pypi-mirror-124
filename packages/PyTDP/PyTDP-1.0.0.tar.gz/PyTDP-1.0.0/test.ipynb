{
 "metadata": {
  "language_info": {
   "codemirror_mode": {
    "name": "ipython",
    "version": 3
   },
   "file_extension": ".py",
   "mimetype": "text/x-python",
   "name": "python",
   "nbconvert_exporter": "python",
   "pygments_lexer": "ipython3",
   "version": "3.7.12"
  },
  "orig_nbformat": 2,
  "kernelspec": {
   "name": "python2",
   "display_name": "Python 2",
   "language": "python"
  }
 },
 "nbformat": 4,
 "nbformat_minor": 2,
 "cells": [
  {
   "cell_type": "code",
   "execution_count": 1,
   "metadata": {},
   "outputs": [],
   "source": [
    "import pytdp as pt\n",
    "import pandas as pd \n",
    "import random as rm\n",
    "import os"
   ]
  },
  {
   "source": [
    "# テストデータの作成\n",
    "start = 97\n",
    "end = 122\n",
    "data = {}\n",
    "for i in range(start, end + 1):\n",
    "    data[chr(i)] = [rm.randint(0, 100) for _ in range(100)]\n",
    "df = pd.DataFrame(data)\n",
    "df.to_csv('test_data_2.csv', index_label = False)\n",
    "#pd.read_csv('test_data.csv')"
   ],
   "cell_type": "code",
   "metadata": {},
   "execution_count": 6,
   "outputs": []
  },
  {
   "cell_type": "code",
   "execution_count": 2,
   "metadata": {},
   "outputs": [
    {
     "output_type": "stream",
     "name": "stdout",
     "text": [
      "2/2\n"
     ]
    }
   ],
   "source": [
    "td = pt.TroublesomeData(data_list_or_directory = os.getcwd(), working_directory = os.getcwd())"
   ]
  },
  {
   "cell_type": "code",
   "execution_count": 3,
   "metadata": {},
   "outputs": [
    {
     "output_type": "stream",
     "name": "stdout",
     "text": [
      "Delete_null : test_data_one ...Complete !\n"
     ]
    }
   ],
   "source": [
    "# 前処理を行うデータをセット(行わない場合は読み込んだデータすべてに対して行われる)\n",
    "td.set_preprocess_key('test_data_one')\n",
    "\n",
    "# 欠損値を削除するメソッド\n",
    "td.delete_null(null_label = 0, percent = 1)"
   ]
  },
  {
   "cell_type": "code",
   "execution_count": null,
   "metadata": {},
   "outputs": [],
   "source": [
    "#続きはanalyzerのcheck_analyzing_dataから！"
   ]
  }
 ]
}